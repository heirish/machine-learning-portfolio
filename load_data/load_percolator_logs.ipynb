{
 "cells": [
  {
   "cell_type": "code",
   "execution_count": 1,
   "metadata": {
    "collapsed": true
   },
   "outputs": [],
   "source": [
    "import pandas as pd\n",
    "import multiprocessing\n",
    "import logging\n",
    "import time\n",
    "logger = logging.getLogger(\"elasticsearch\")\n",
    "logger.setLevel(logging.ERROR)\n",
    "\n",
    "from Utils import load_percolator_log\n",
    "import importlib\n",
    "importlib.reload(load_percolator_log)\n",
    "\n",
    "STARTDATE=\"20180331\"\n",
    "\n",
    "INSTANCES = {\"instance\":{\"host\":\"url\",\n",
    "                     \"single_alert\":\"index_name\", \n",
    "                     \"project_file\":\"filename\"}\n",
    "            }"
   ]
  },
  {
   "cell_type": "code",
   "execution_count": null,
   "metadata": {
    "collapsed": true
   },
   "outputs": [],
   "source": [
    "if __name__ == \"__main__\":\n",
    "\n",
    "    processes = []\n",
    "    start_time = time.time()\n",
    "    for key,value in INSTANCES.items():\n",
    "        print(key,value)\n",
    "\n",
    "        p1 = multiprocessing.Process(target=load_percolator_log.loadPlogs, args=(key, value, STARTDATE, ))\n",
    "        p2 = multiprocessing.Process(target=load_percolator_log.loadNlogs, args=(key, value, STARTDATE, ))\n",
    "        processes.append(p1)\n",
    "        processes.append(p2)\n",
    "        \n",
    "    for job in processes:\n",
    "        job.start()\n",
    "    for job in processes:\n",
    "        job.join()\n",
    "    end_time = time.time()\n",
    "    print(\"retrieve done in {} seconds\".format(end_time - start_time))"
   ]
  }
 ],
 "metadata": {
  "kernelspec": {
   "display_name": "Python 3",
   "language": "python",
   "name": "python3"
  },
  "language_info": {
   "codemirror_mode": {
    "name": "ipython",
    "version": 3
   },
   "file_extension": ".py",
   "mimetype": "text/x-python",
   "name": "python",
   "nbconvert_exporter": "python",
   "pygments_lexer": "ipython3",
   "version": "3.6.1"
  }
 },
 "nbformat": 4,
 "nbformat_minor": 2
}

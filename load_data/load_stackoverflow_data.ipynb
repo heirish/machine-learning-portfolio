{
 "cells": [
  {
   "cell_type": "markdown",
   "metadata": {},
   "source": [
    "# stackoverflow posts load\n",
    "### 参考\n",
    "1. [python-es-bulk](https://github.com/elastic/elasticsearch-py/issues/508)\n",
    "2. [python-es-bulk1](http://elasticsearch-py.readthedocs.io/en/master/helpers.html)\n",
    "3. [parse-tags](https://tutorialedge.net/python/removing-html-from-string/)\n",
    "4. [iteratively-parse-large-xml](http://effbot.org/zone/element-iterparse.htm)\n",
    "5. [stackoverflow-data](https://archive.org/details/stackexchange)\n",
    "6. [stackoverflow-data-analysis-online](http://data.stackexchange.com/stackoverflow/query/new)\n",
    "7. [stackoverflow-data-google-bigquery](https://cloud.google.com/bigquery/public-data/stackoverflow)"
   ]
  },
  {
   "cell_type": "code",
   "execution_count": 1,
   "metadata": {
    "collapsed": true
   },
   "outputs": [],
   "source": [
    "import sys\n",
    "sys.path.append(\"./\")\n",
    "import ElasticSearchClass\n",
    "import importlib\n",
    "importlib.reload(ElasticSearchClass)\n",
    "\n",
    "import time\n",
    "import xml.etree.ElementTree as ET\n",
    "import math\n",
    "import pandas as pd\n",
    "from bs4 import BeautifulSoup\n",
    "\n",
    "FIELDS = ['id', 'acceptedanswerid', 'creationdate', 'score', 'viewcount', 'body', 'owneruserid', \n",
    "          'lasteditoruserid', 'lasteditordisplayname', 'lasteditdate', 'lastactivitydate', 'title',\n",
    "          'tags', 'answercount', 'commentcount', 'favoritecount', 'communityowneddate']\n",
    "INDEX_MAPPING= '''\n",
    "{\n",
    "    \"settings\": {\n",
    "            \"index\": {\n",
    "                \"refresh_interval\": \"5s\",\n",
    "                \"number_of_shards\": \"20\",\n",
    "                \"translog\": {\n",
    "                    \"durability\": \"async\"\n",
    "                },\n",
    "                \"number_of_replicas\": \"1\"\n",
    "            }\n",
    "        },\n",
    "    \"mappings\": {\n",
    "            \"posts\": {\n",
    "                \"properties\": {\n",
    "                    \"acceptedanswerid\": {\n",
    "                        \"type\": \"integer\"\n",
    "                    },\n",
    "                    \"answercount\": {\n",
    "                        \"type\": \"integer\"\n",
    "                    },\n",
    "                    \"body\": {\n",
    "                        \"type\": \"text\",\n",
    "                        \"norms\": false\n",
    "                    },\n",
    "                    \"commentcount\": {\n",
    "                        \"type\": \"integer\"\n",
    "                    },\n",
    "                    \"communityowneddate\": {\n",
    "                        \"type\": \"date\"\n",
    "                    },\n",
    "                    \"creationdate\": {\n",
    "                        \"type\": \"date\"\n",
    "                    },\n",
    "                    \"favoritecount\": {\n",
    "                        \"type\": \"integer\"\n",
    "                    },\n",
    "                    \"lastactivitydate\": {\n",
    "                        \"type\": \"date\"\n",
    "                    },\n",
    "                    \"lasteditdate\": {\n",
    "                        \"type\": \"date\"\n",
    "                    },\n",
    "                    \"lasteditordisplayname\": {\n",
    "                        \"type\": \"keyword\"\n",
    "                    },\n",
    "                    \"lasteditoruserid\": {\n",
    "                        \"type\": \"integer\"\n",
    "                    },\n",
    "                    \"ownerdisplayname\": {\n",
    "                        \"type\": \"keyword\"\n",
    "                    },\n",
    "                    \"owneruserid\": {\n",
    "                        \"type\": \"integer\"\n",
    "                    },\n",
    "                    \"parentid\": {\n",
    "                        \"type\": \"integer\"\n",
    "                    },\n",
    "                    \"posttypeid\": {\n",
    "                        \"type\": \"integer\"\n",
    "                    },\n",
    "                    \"score\": {\n",
    "                        \"type\": \"integer\"\n",
    "                    },\n",
    "                    \"tags\": {\n",
    "                        \"type\": \"keyword\"\n",
    "                    },\n",
    "                    \"title\": {\n",
    "                        \"type\": \"text\",\n",
    "                        \"term_vector\": \"yes\",\n",
    "                        \"fields\": {\n",
    "                            \"keyword\": {\n",
    "                                \"type\": \"keyword\",\n",
    "                                \"ignore_above\": 256\n",
    "                            }\n",
    "                        }\n",
    "                    },\n",
    "                    \"viewcount\": {\n",
    "                        \"type\": \"integer\"\n",
    "                    }\n",
    "                }\n",
    "            }\n",
    "        }\n",
    "}\n",
    "'''\n",
    "DOCID=\"docId\" #stackoverflow的数据字段有一个为id, python中有名为id的内置函数，因此要修改这个字段名"
   ]
  },
  {
   "cell_type": "code",
   "execution_count": 3,
   "metadata": {
    "collapsed": true
   },
   "outputs": [],
   "source": [
    "def parseRow(elem):\n",
    "    \"\"\"\n",
    "    Parameters in:\n",
    "        elem - XML element\n",
    "    Return:\n",
    "        dictionary - key, value\n",
    "    \"\"\"\n",
    "    values=dict()\n",
    "    for key in elem.attrib.keys():\n",
    "        if key.lower() == \"tags\":\n",
    "            tags = elem.attrib.get(key).replace('<', '').split('>')[:-1]\n",
    "            values[key.lower()] = tags\n",
    "        elif key.lower() == \"body\":\n",
    "            body = BeautifulSoup(elem.attrib.get(key), \"html.parser\").get_text()\n",
    "            values[key.lower()] = body\n",
    "        elif key.lower() == \"id\": # change field name to docID\n",
    "            values[DOCID] = elem.attrib.get(key)\n",
    "        else:\n",
    "            values[key.lower()] = elem.attrib.get(key)\n",
    "    return values"
   ]
  },
  {
   "cell_type": "code",
   "execution_count": 4,
   "metadata": {
    "collapsed": true
   },
   "outputs": [],
   "source": [
    "def formatOneTextRow(fields, values = None, fieldDLM=\"|@|\"):\n",
    "    \"\"\"\n",
    "    Parameters in:\n",
    "        fields - a list of fields name\n",
    "        values - a dictionary of values with fields name, Default None\n",
    "        fieldDLM - delimeter of values, default \"|@|\"\n",
    "    Return:\n",
    "        if values is None, return fields with delimeters, used as header\n",
    "        if is not None, values with delimeters in the same order as fields\n",
    "    \"\"\"\n",
    "    #format a header\n",
    "    if values is None:\n",
    "        return fieldDLM.join(fields)\n",
    "    \n",
    "    #format a data row\n",
    "    valueList = []\n",
    "    for field in fields:\n",
    "        if field in values:\n",
    "            if field == \"tags\":\n",
    "                valueList.append(\",\".join(values[field]))\n",
    "            else:\n",
    "                valueList.append(values[field])\n",
    "        else: \n",
    "            valueList.append(\"\")\n",
    "    return fieldDLM.join(valueList)"
   ]
  },
  {
   "cell_type": "code",
   "execution_count": 5,
   "metadata": {
    "collapsed": true
   },
   "outputs": [],
   "source": [
    "def formatOneESIndex(values, indexName=\"stackoverflow\", docType=\"posts\"):\n",
    "    if DOCID in values:\n",
    "        docId = values[DOCID]\n",
    "        del values[DOCID]\n",
    "        indexRow = {\n",
    "            \"_index\": indexName,\n",
    "             \"_type\": docType,\n",
    "             \"_id\":docId,\n",
    "             \"_source\": values\n",
    "        }\n",
    "    else:\n",
    "        indexRow =  {\n",
    "            \"_index\": indexName,\n",
    "            \"_type\": docType,\n",
    "            \"_source\": values\n",
    "         }\n",
    "    return indexRow"
   ]
  },
  {
   "cell_type": "code",
   "execution_count": 6,
   "metadata": {
    "collapsed": true
   },
   "outputs": [],
   "source": [
    "def parseXML(XMLFile, resType=\"File\", indexName=\"stackoverflow\", docType=\"posts\"):\n",
    "    \"\"\"\n",
    "    Parameters in:\n",
    "        XMLFile - XML File path for parse\n",
    "        resType - File, parse XMLFile to another file with delimiter seperated data row, default value\n",
    "                  ES, parse XMLFile to ES index format\n",
    "    \"\"\"\n",
    "    #get an iterable\n",
    "    context = ET.iterparse(XMLFile, events=(\"start\", \"end\"))\n",
    "    #turn it into an iterator\n",
    "    context = iter(context)\n",
    "    #get the root element\n",
    "    event, root = next(context)\n",
    "    count = 0  \n",
    "    for event, elem in context:\n",
    "        if count > 1000:\n",
    "            break\n",
    "        if event == \"end\" and elem.tag == \"row\":\n",
    "            count += 1\n",
    "            values = parseRow(elem)\n",
    "            if resType == \"ES\":\n",
    "                yield formatOneESIndex(values, indexName, docType)\n",
    "            else:\n",
    "                yield formatOneTextRow(FIELDS, values)\n",
    "            elem.clear()\n",
    "        root.clear()\n",
    "    print(\"Parse XML [%s] Done, total [%d] records!\" % (XMLFile, count))"
   ]
  },
  {
   "cell_type": "code",
   "execution_count": 8,
   "metadata": {},
   "outputs": [
    {
     "name": "stdout",
     "output_type": "stream",
     "text": [
      ".\\Posts.csv\n",
      "Parse XML [F:\\stackoverflow.com-Posts\\Posts.xml] Done, total [1001] records!\n",
      "Parse XML [F:\\stackoverflow.com-Posts\\Posts.xml] and save to file [.\\Posts.csv] Done, total [1001] records!\n"
     ]
    }
   ],
   "source": [
    "def parseXMLToCSV(XMLFile, outFile):\n",
    "    try:\n",
    "        with open(outFile, 'w', newline='', encoding='utf-8') as out:\n",
    "            out.write(formatOneTextRow(FIELDS))\n",
    "            out.write(\"\\n\")   \n",
    "            generated = parseXML(XMLFile)\n",
    "            count = 0\n",
    "            print(outFile)\n",
    "            for data in generated:\n",
    "                out.write(data)\n",
    "                out.write(\"\\n\")\n",
    "                count += 1\n",
    "        print(\"Parse XML [%s] and save to file [%s] Done, total [%d] records!\" % (XMLFile, outFile, count))\n",
    "    except FileNotFoundError:\n",
    "        print(\"ERROR:Can not read XMLFile [%s] or CSVFile [%s], will do nothing!\" % (XMLFile, outFile))\n",
    "                \n",
    "parseXMLToCSV(\"F:\\\\stackoverflow.com-Posts\\\\Posts.xml\", \".\\Posts.csv\")  "
   ]
  },
  {
   "cell_type": "code",
   "execution_count": 9,
   "metadata": {
    "collapsed": true
   },
   "outputs": [],
   "source": [
    "def parseXMLToES(XMLFile, esUtil, indexName=\"stackoverflow\", docType=\"posts\"):\n",
    "    if esUtil is None or not esUtil.isValid():\n",
    "        print(\"esUtil in invalid, will do nothing!\")\n",
    "        return\n",
    "    \n",
    "    try:\n",
    "        esUtil.createIndex(indexName, INDEX_MAPPING)\n",
    "    except Exception as e:\n",
    "        print(\"ERROR: Create ES Index failed!\")\n",
    "        print(str(e))\n",
    "        return\n",
    "    \n",
    "    indexedCount = 0\n",
    "    try:\n",
    "        indexedCount = esUtil.bulkIndexDocument(parseXML(XMLFile, \"ES\", indexName, docType))\n",
    "    except Exception as e:\n",
    "        print(e)\n",
    "    print(\"Index to ES Done, [%d] was indexed!\" % (indexedCount))"
   ]
  },
  {
   "cell_type": "code",
   "execution_count": 11,
   "metadata": {},
   "outputs": [
    {
     "name": "stdout",
     "output_type": "stream",
     "text": [
      "Parse XML [F:\\stackoverflow.com-Posts\\Posts.xml] Done, total [1001] records!\n",
      "Index to ES Done, [1001] was indexed!\n"
     ]
    }
   ],
   "source": [
    "if __name__=='__main__':\n",
    "    #如果虚拟机内可以访问端口，宿主机访问不了，把虚拟机的firewall关掉试试，sudo service iptables stop\n",
    "    esUtil = ElasticSearchClass.ElasticSearchClass(\"192.168.18.187\", 9201)\n",
    "    parseXMLToES(\"F:\\\\stackoverflow.com-Posts\\\\Posts.xml\", esUtil)"
   ]
  },
  {
   "cell_type": "code",
   "execution_count": null,
   "metadata": {
    "collapsed": true
   },
   "outputs": [],
   "source": []
  }
 ],
 "metadata": {
  "kernelspec": {
   "display_name": "Python 3",
   "language": "python",
   "name": "python3"
  },
  "language_info": {
   "codemirror_mode": {
    "name": "ipython",
    "version": 3
   },
   "file_extension": ".py",
   "mimetype": "text/x-python",
   "name": "python",
   "nbconvert_exporter": "python",
   "pygments_lexer": "ipython3",
   "version": "3.6.1"
  }
 },
 "nbformat": 4,
 "nbformat_minor": 2
}

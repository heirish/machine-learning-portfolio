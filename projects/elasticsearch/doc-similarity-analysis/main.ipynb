{
 "cells": [
  {
   "cell_type": "markdown",
   "metadata": {},
   "source": [
    "# 文档similarity分析\n",
    "### 参考\n",
    "1. https://www.datasciencecentral.com/profiles/blogs/document-similarity-analysis-using-elasticsearch-and-python\n",
    "2. https://stackoverflow.com/questions/30588528/creating-a-term-document-matrix-in-python-from-elasticsearch-index\n",
    "3. https://www.elastic.co/guide/en/elasticsearch/reference/current/query-dsl-mlt-query.html"
   ]
  },
  {
   "cell_type": "code",
   "execution_count": 65,
   "metadata": {
    "collapsed": true
   },
   "outputs": [],
   "source": [
    "import sys\n",
    "sys.path.append(\"./\")\n",
    "import ElasticSearchClass\n",
    "import importlib\n",
    "importlib.reload(ElasticSearchClass)\n",
    "\n",
    "import urllib\n",
    "from lxml import etree\n",
    "import time\n",
    "import csv\n",
    "import math"
   ]
  },
  {
   "cell_type": "code",
   "execution_count": 66,
   "metadata": {
    "collapsed": true
   },
   "outputs": [],
   "source": [
    "def crawl_link_to_index(indexName, idx, link, esUtil):\n",
    "    print(idx, link)\n",
    "    try:\n",
    "        response= urllib.request.urlopen(link)\n",
    "                    \n",
    "        while response.getcode()==502:\n",
    "            time.sleep(60)\n",
    "            response= urllib.request.urlopen(link)\n",
    "        page_content = response.read()\n",
    "        html_parser = etree.HTMLParser(remove_comments=True)\n",
    "        tree = etree.HTML(page_content, parser=html_parser)\n",
    "        etree.strip_elements(tree, 'script')\n",
    "        etree.strip_tags(tree, 'script')\n",
    "        text_data = \"\\n\".join(filter(lambda chunk: chunk != '',[t.strip() for t in tree.itertext()]))\n",
    "        page_title = tree.find(\".//title\").text           \n",
    "        esUtil.indexDocument(indexName,\"page\",idx,{\"url\": link,\n",
    "                         \"title\": page_title,\n",
    "                         \"page_text\": text_data\n",
    "                        })\n",
    "        print(\"-\" * 10)\n",
    "    except Exception as e:\n",
    "        print(e)"
   ]
  },
  {
   "cell_type": "code",
   "execution_count": 81,
   "metadata": {
    "collapsed": true
   },
   "outputs": [],
   "source": [
    "def get_cosine(vec1, vec2):\n",
    "    intersection = set(vec1.keys()) & set(vec2.keys()) #过滤出vec1和vec2都有的词条。\n",
    "    numerator = sum([vec1[x] * vec2[x] for x in intersection])\n",
    "    \n",
    "    sum1 = sum([vec1[x]**2 for x in vec1.keys()])\n",
    "    sum2 = sum([vec2[x]**2 for x in vec2.keys()])\n",
    "    denominator = math.sqrt(sum1) * math.sqrt(sum2)\n",
    "    \n",
    "    #print(vec1, vec2)\n",
    "    print(intersection)\n",
    "    print(numerator,sum1, sum2)\n",
    "    if not denominator:\n",
    "        return 0.0\n",
    "    else:\n",
    "        return float(numerator) / denominator\n",
    "\n",
    "def get_tv_dict(tvjson):\n",
    "    return dict([ (k, v['term_freq'])  \n",
    "                  for k,v in tvjson\\\n",
    "                  .get('term_vectors')\\\n",
    "                  .get('page_text')\\\n",
    "                  .get('terms')\\\n",
    "                  .items()])"
   ]
  },
  {
   "cell_type": "code",
   "execution_count": 82,
   "metadata": {},
   "outputs": [],
   "source": [
    "def generate_mlt_report(indexName, max_link_id, esUtil):\n",
    "    print(indexName, max_link_id)\n",
    "    fd = open(\"output.csv\",'w')\n",
    "    out_csv = csv.writer(fd)\n",
    "    \n",
    "    for doc_id in range(max_link_id):\n",
    "        try:\n",
    "            d = esUtil.get(indexName, \"page\", doc_id)\n",
    "            \n",
    "            dsrc = d.get(\"_source\")\n",
    "            url = dsrc.get(\"url\")\n",
    "            title = dsrc.get(\"title\")\n",
    "            \n",
    "            mlts = esUtil.moreLikeThis(indexName, \"page\", doc_id, [\"page_text\"])\n",
    "            hits = mlts.get('hits').get('hits')\n",
    "            tvjson = esUtil.termVector(indexName, \"page\", doc_id)\n",
    "            #print(tvjson)\n",
    "            tv1 = get_tv_dict(tvjson)\n",
    "            wc = sum(tv1.values())\n",
    "            r = [doc_id, title.encode('ascii', 'ignore'), url, wc]\n",
    "            tmp_li = []\n",
    "            for h in hits:\n",
    "                tmp_tvjson = esUtil.termVector(indexName,\"page\",h.get('_id'))\n",
    "                tmp_tv = get_tv_dict(tmp_tvjson)\n",
    "                tmp_li.extend([[h.get('_id'), h.get('_score'),\n",
    "                          get_cosine(tv1, tmp_tv) * 100,\n",
    "                          h.get('_source').get('title').encode('ascii', 'ignore'),\n",
    "                          h.get('_source').get('url'), sum(tmp_tv.values())]])\n",
    "            tmp_li = sorted(tmp_li,key=lambda a:a[2],reverse=True)  \n",
    "            tmp_li2 = []\n",
    "            \n",
    "            for do in tmp_li:\n",
    "                tmp_li2 = tmp_li2+do\n",
    "            \n",
    "            r = r+tmp_li2\n",
    "            out_csv.writerow(r)\n",
    "            fd.flush()\n",
    "        except Exception as e:\n",
    "            print(e)\n",
    "    fd.close()"
   ]
  },
  {
   "cell_type": "code",
   "execution_count": 83,
   "metadata": {},
   "outputs": [
    {
     "name": "stdout",
     "output_type": "stream",
     "text": [
      "4\n",
      "generating  more like this report.......\n",
      "kpsindex 4\n",
      "{'false', 'little', 'look', 'from', 'dictionary', 'in', 'api', 'twitter', 'python', 'powered', 'data', 'no', 'not', 'command', 'center', 'put', 'test', 'demonstrates', 'ways', 'repository', 'pip', 'import', 'or', 'code', 'github', 'contact', 'have', 'it', 'new', 'latest', 'build', 'cd', 'any', 'true', 'below', 'i', 'first', 'post', 'learn', 'the', 'number', 'common', 'between', 'search', 'because', 'line', 'usr', 'will', 'os', 'folder', 'classification', 'download', 'installed', 'at', 'use', 'do', 'o', 'quite', 'case', 'user', 'navigation', 'be', 'install', 'are', 'free', 'terms', 'facebook', 'if', 'machine', 'has', 'to', 'so', 'with', 'of', 'each', 'primary', 'contains', 'other', 'software', 'more', 'home', 'can', 'like', 'above', 'start', 's', '1', 'we', 'read', 'as', 'which', 'built', 'tools', 'range', 'es', 'type', 'your', 'request', 'for', 'part', 'is', 'password', 'different', 'username', 'series', 'using', 'this', 'means', 'learning', '0', 'about', 'also', 'you', 'some', 'well', '14', 'add', 'resources', 'that', '3', 'available', 'yet', 'print', '2', 'under', 'users', 'by', 'how', 'installation', 'support', 'could', 'scripts', 'linux', 'same', 'extra', 'a', 'mind', 'all', 'an', 'make', 'on', 'only', 'login', 'much', 'and'}\n",
      "13559 13391 42233\n",
      "{'except', 'false', 'c', 'authors', 'app', 'from', 'in', 'twitter', 'powered', 'no', 'not', 'center', 'default', 'put', 'b', 'or', 'contact', 'similarity', 'have', 'it', 'new', 'latest', 'g', 'any', 'true', 'below', 'first', 'post', 'tf', 'learn', 'the', 'idf', 'search', 'releases', 'will', 'modules', 'events', 'site', 'use', 'count', 'result', 'm', 'do', 'x', 'be', 'are', 'document', 'terms', 'facebook', 'written', 'p', 'if', 'machine', 'has', 'to', 'than', 'so', 'with', 'of', 'important', 'other', 'software', 'more', 'model', 'can', 'metrics', 'like', 'see', 'above', 'text', 'documentation', '1', 'we', 'match', 'as', 'english', 'built', 'which', 'es', '2.0', 'type', 'your', 'script', 'request', 'for', 'updated', 'part', 'is', 'approaches', 'different', 'graph', 'this', 'learning', '0', '0.75', 'about', 'you', 'module', 'resources', 'that', 'based', 'available', 'example', '2', 'under', 'by', 'how', 'source', 'support', 'documents', 'en', 'algorithm', 'same', 'reference', 'a', 'all', 'an', 'make', 'on', 'and'}\n",
      "6207 13391 13805\n",
      "{'configuration', 'apache', 'a:hover', 'elephant', 'title', 'app', 'from', 'blt7b9c4fe6528dc4ef', 'in', 'twitter', 'powered', 'marvel', 'no', 'not', 'elastic', 'contain', 'center', 'privacy', 'linkedin.svg', 'content', 'xing.svg', 'put', 'elasticsearch', 'via', 'or', 'kibana', 'hadoop', 'cases', 'starter', \"we'll\", 'contact', 'customers', 'watcher', 'have', 'it', 'new', 'twitter.svg', 'latest', 'partners', 'blt01ce654380e4ea6c', 'any', '2018', 'community', 'thanks', 'but', 'following', 'assets', 'us', 'first', '本', 'getting', 'learn', 'the', 'must', 'questions', 'rgba', 'bv', 'repeat', 'search', 'reserved', 'while', 'releases', 'hdfs', 'rights', 'most', 'yellow', 'will', 'mappings', 'docs', 'registered', 'settings', 'visibility:hidden', 'linkedin', 'careers', 'events', 'foundation', 'site', '日', 'bltf546ff2e0a8f2de5', 'use', 'feedback', 'm', 'do', 'cloud', 'cookie', 'français', 'term', 'x', 'portal', 'youtube', 'security', 'reporting', 'mapping', 'be', 'subscribing', 'live', 'are', 'position', 'background', 'terms', 'facebook', 'videos', 'p', 'formerly', 'if', 'policy', 'machine', 'order', 'blog', 'blt44d8b7530a76d01c', 'bltdd9556d6b24e2b85', 'shield', 'to', 'guide', 'training', 'facebook.svg', 'configure', 'with', 'of', 'field', 'instance', 'bltddeb6c6404ae81a5', 'apm', 'other', 'software', 'more', 'u.s', 'monitoring', 'tokens', 'trademarks', 'alerting', 'store', 'pack', 'logstash', 'can', 'blt878040795c9d083b', 'metrics', 'change', '简', 'like', 'configuring', 'text', 'documentation', 'need', '体', 'subscriptions', 'we', 'as', 'english', 'width', 'united', 'which', 'index', 'olark', 'scroll', 'logo', 'beats', 'jobs', 'sequence', 'analytics', 'es', 'configured', 'type', 'background:url', 'shortcuts', 'explain', 'your', '文', 'request', 'webinars', 'bltededebe5f7521a39', 'introduction', 'updated', 'for', 'is', 'a.m', 'leadership', 'xing', 'different', 'started', 'a:before', 'want', 'blt90b0372cc07a54d3', 'keep', 'graph', '中', '_mapping', 'this', 'meetups', 'out', 'learning', '0', 'starting', 'about', 'status', 'you', 'brand', 'resources', 'that', 'greatest', '한국어', 'matching', 'available', '語', 'hover.svg', 'example', '2', 'creating', 'properties', 'under', 'edit', 'by', 'url', 'li', 'youtube.svg', 'how', 'products', 'solutions', 'size', 'height', 'countries', 'support', 'trademark', 'blt4982061ce1aebc7f', 'know', 'press', 'downloads', 'deutsch', 'en', 'same', 'after', 'bltc6347078dcc9ec76', 'states', 'bltc4a77e0f52ce07f1', 'follow', 'a', 'icon.png', 'bltc24cf11c714ecfc4', 'enterprise', 'all', 'get', 'chat', 'an', 'on', 'logging', 'lucene', 'services', 'custom', 'and', 'forums'}\n",
      "6991 8687 13805\n",
      "{'apache', 'from', 'in', 'api', 'twitter', 'powered', 'data', 'no', 'not', 'power', 'center', 'privacy', 'put', 'test', 'elasticsearch', 'or', 'kibana', 'hadoop', \"we'll\", 'contact', 'have', 'it', 'new', 'latest', 'any', '2018', 'thanks', 'but', 'following', 'us', 'first', 'learn', 'the', 'number', 'must', 'bv', 'search', 'reserved', 'while', 'rights', 'most', 'together', 'will', 'registered', 'docs', 'settings', '5', 'linkedin', 'foundation', 'there', 'use', 'list', 'do', 'cloud', 'single', 'these', 'be', 'are', 'terms', 'facebook', 'if', 'policy', 'machine', 'order', 'blog', 'to', 'training', 'configure', 'with', 'of', 'u.s', 'other', 'software', 'more', 'through', 'set', 'trademarks', 'store', 'logstash', 'can', 'like', 'into', 'configuring', 'need', 'we', 'as', 'which', 'index', 'es', 'configured', 'may', 'type', 'your', 'request', 'for', 'is', 'results', 'different', 'started', 'our', 'form', 'using', 'keep', 'way', 'this', 'out', 'learning', '0', 'starting', 'about', 'status', 'you', 'create', 'add', 'resources', 'that', '3', 'available', 'already', '2', 'exist', 'creating', 'properties', 'under', 'by', 'url', 'how', 'products', 'such', 'size', 'countries', 'support', 'know', 'same', 'after', 'follow', 'a', 'enterprise', 'all', 'format', 'get', 'an', 'comes', 'up', 'on', 'only', 'much', 'and'}\n",
      "11825 8687 42233\n",
      "{'configuration', 'apache', 'a:hover', 'elephant', 'title', 'app', 'from', 'blt7b9c4fe6528dc4ef', 'in', 'twitter', 'powered', 'marvel', 'no', 'not', 'elastic', 'contain', 'center', 'privacy', 'linkedin.svg', 'content', 'xing.svg', 'put', 'elasticsearch', 'via', 'or', 'kibana', 'hadoop', 'cases', 'starter', \"we'll\", 'contact', 'customers', 'watcher', 'have', 'it', 'new', 'twitter.svg', 'latest', 'partners', 'blt01ce654380e4ea6c', 'any', '2018', 'community', 'thanks', 'but', 'following', 'assets', 'us', 'first', '本', 'getting', 'learn', 'the', 'must', 'questions', 'rgba', 'bv', 'repeat', 'search', 'reserved', 'while', 'releases', 'hdfs', 'rights', 'most', 'yellow', 'will', 'mappings', 'docs', 'registered', 'settings', 'visibility:hidden', 'linkedin', 'careers', 'events', 'foundation', 'site', '日', 'bltf546ff2e0a8f2de5', 'use', 'feedback', 'm', 'do', 'cloud', 'cookie', 'français', 'term', 'x', 'portal', 'youtube', 'security', 'reporting', 'mapping', 'be', 'subscribing', 'live', 'are', 'position', 'background', 'terms', 'facebook', 'videos', 'p', 'formerly', 'if', 'policy', 'machine', 'order', 'blog', 'blt44d8b7530a76d01c', 'bltdd9556d6b24e2b85', 'shield', 'to', 'guide', 'training', 'facebook.svg', 'configure', 'with', 'of', 'field', 'instance', 'bltddeb6c6404ae81a5', 'apm', 'other', 'software', 'more', 'u.s', 'monitoring', 'tokens', 'trademarks', 'alerting', 'store', 'pack', 'logstash', 'can', 'blt878040795c9d083b', 'metrics', 'change', '简', 'like', 'configuring', 'text', 'documentation', 'need', '体', 'subscriptions', 'we', 'as', 'english', 'width', 'united', 'which', 'index', 'olark', 'scroll', 'logo', 'beats', 'jobs', 'sequence', 'analytics', 'es', 'configured', 'type', 'background:url', 'shortcuts', 'explain', 'your', '文', 'request', 'webinars', 'bltededebe5f7521a39', 'introduction', 'updated', 'for', 'is', 'a.m', 'leadership', 'xing', 'different', 'started', 'a:before', 'want', 'blt90b0372cc07a54d3', 'keep', 'graph', '中', '_mapping', 'this', 'meetups', 'out', 'learning', '0', 'starting', 'about', 'status', 'you', 'brand', 'resources', 'that', 'greatest', '한국어', 'matching', 'available', '語', 'hover.svg', 'example', '2', 'creating', 'properties', 'under', 'edit', 'by', 'url', 'li', 'youtube.svg', 'how', 'products', 'solutions', 'size', 'height', 'countries', 'support', 'trademark', 'blt4982061ce1aebc7f', 'know', 'press', 'downloads', 'deutsch', 'en', 'same', 'after', 'bltc6347078dcc9ec76', 'states', 'bltc4a77e0f52ce07f1', 'follow', 'a', 'icon.png', 'bltc24cf11c714ecfc4', 'enterprise', 'all', 'get', 'chat', 'an', 'on', 'logging', 'lucene', 'services', 'custom', 'and', 'forums'}\n",
      "6991 13805 8687\n",
      "{'false', 'here', 'apache', 'specify', '_source', 'from', 'in', 'twitter', 'close', 'powered', 'no', 'not', 'access', 'center', 'description', 'privacy', 'put', 'elasticsearch', 'when', 'or', 'kibana', 'hadoop', 'since', \"we'll\", 'contact', 'have', 'it', 'new', 'number_of_shards', 'latest', 'any', 'true', '2018', 'below', 'thanks', 'but', 'following', 'us', 'post', 'first', 'query', 'learn', 'should', 'the', 'must', 'bv', 'search', 'reserved', 'while', 'return', 'rights', 'most', 'will', 'registered', 'docs', 'open', 'settings', 'linkedin', 'foundation', 'give', 'use', 'do', 'cloud', 'name', 'would', 'be', 'are', 'terms', 'facebook', 'computing', 'if', 'policy', 'machine', 'has', 'blog', 'order', 'to', 'variables', 'training', 'configure', 'so', 'with', 'of', 'u.s', 'other', 'software', 'more', 'fields', 'trademarks', 'store', 'logstash', 'can', 'like', 'work', 'above', 'configuring', '1', 'need', 'we', 'better', 'as', 'which', 'built', 'index', 'es', 'configured', 'basic', 'type', 'shown', 'your', 'both', 'request', 'for', 'part', 'is', '_index', 'one', 'again', 'different', 'started', 'keep', 'this', '_type', 'out', 'learning', 'hits', '0', 'starting', 'about', 'status', 'you', 'information', 'resources', '_id', 'that', 'available', '2', 'creating', 'properties', 'details', 'under', 'by', 'url', 'how', 'l', 'products', 'size', 'countries', 'what', 'support', 'know', 'might', 'same', 'after', 'follow', 'a', 'enterprise', 'all', 'get', 'an', 'make', 'on', 'and', 'capture'}\n",
      "13081 13805 42233\n",
      "{'false', 'little', 'look', 'from', 'dictionary', 'in', 'api', 'twitter', 'python', 'powered', 'data', 'no', 'not', 'command', 'center', 'put', 'test', 'demonstrates', 'ways', 'repository', 'pip', 'import', 'or', 'code', 'github', 'contact', 'have', 'it', 'new', 'latest', 'build', 'cd', 'any', 'true', 'below', 'i', 'first', 'post', 'learn', 'the', 'number', 'common', 'between', 'search', 'because', 'line', 'usr', 'will', 'os', 'folder', 'classification', 'download', 'installed', 'at', 'use', 'do', 'o', 'quite', 'case', 'user', 'navigation', 'be', 'install', 'are', 'free', 'terms', 'facebook', 'if', 'machine', 'has', 'to', 'so', 'with', 'of', 'each', 'primary', 'contains', 'other', 'software', 'more', 'home', 'can', 'like', 'above', 'start', 's', '1', 'we', 'read', 'as', 'which', 'built', 'tools', 'range', 'es', 'type', 'your', 'request', 'for', 'part', 'is', 'password', 'different', 'username', 'series', 'using', 'this', 'means', 'learning', '0', 'about', 'also', 'you', 'some', 'well', '14', 'add', 'resources', 'that', '3', 'available', 'yet', 'print', '2', 'under', 'users', 'by', 'how', 'installation', 'support', 'could', 'scripts', 'linux', 'same', 'extra', 'a', 'mind', 'all', 'an', 'make', 'on', 'only', 'login', 'much', 'and'}\n",
      "13559 42233 13391\n",
      "{'false', 'here', 'apache', 'specify', '_source', 'from', 'in', 'twitter', 'close', 'powered', 'no', 'not', 'access', 'center', 'description', 'privacy', 'put', 'elasticsearch', 'when', 'or', 'kibana', 'hadoop', 'since', \"we'll\", 'contact', 'have', 'it', 'new', 'number_of_shards', 'latest', 'any', 'true', '2018', 'below', 'thanks', 'but', 'following', 'us', 'post', 'first', 'query', 'learn', 'should', 'the', 'must', 'bv', 'search', 'reserved', 'while', 'return', 'rights', 'most', 'will', 'registered', 'docs', 'open', 'settings', 'linkedin', 'foundation', 'give', 'use', 'do', 'cloud', 'name', 'would', 'be', 'are', 'terms', 'facebook', 'computing', 'if', 'policy', 'machine', 'has', 'blog', 'order', 'to', 'variables', 'training', 'configure', 'so', 'with', 'of', 'u.s', 'other', 'software', 'more', 'fields', 'trademarks', 'store', 'logstash', 'can', 'like', 'work', 'above', 'configuring', '1', 'need', 'we', 'better', 'as', 'which', 'built', 'index', 'es', 'configured', 'basic', 'type', 'shown', 'your', 'both', 'request', 'for', 'part', 'is', '_index', 'one', 'again', 'different', 'started', 'keep', 'this', '_type', 'out', 'learning', 'hits', '0', 'starting', 'about', 'status', 'you', 'information', 'resources', '_id', 'that', 'available', '2', 'creating', 'properties', 'details', 'under', 'by', 'url', 'how', 'l', 'products', 'size', 'countries', 'what', 'support', 'know', 'might', 'same', 'after', 'follow', 'a', 'enterprise', 'all', 'get', 'an', 'make', 'on', 'and', 'capture'}\n",
      "13081 42233 13805\n"
     ]
    }
   ],
   "source": [
    "if __name__=='__main__':\n",
    "    esUtil = ElasticSearchClass.ElasticSearchClass(\"192.168.18.187\", 9201)\n",
    "    indexName = 'kpsindex'\n",
    "    '''\n",
    "    esUtil.createIndex(indexName, {\n",
    "                          \"mappings\": {\n",
    "                              \"page\": {\n",
    "                                  \"_source\": { \"enabled\": True },\n",
    "                                  \"properties\": {\n",
    "                                      \"url\": {\n",
    "                                          \"type\": \"text\"\n",
    "                                      },\n",
    "                                      \"page_text\": {\n",
    "                                          \"type\": \"text\",\n",
    "                                          \"term_vector\": \"yes\"\n",
    "                                      },\n",
    "                                      \"title\": {\n",
    "                                          \"type\": \"text\",\n",
    "                                          \"term_vector\": \"yes\"\n",
    "                                      }\n",
    "                                  }\n",
    "                              }\n",
    "                          }})\n",
    "    '''\n",
    "    _tlinks = open('urls_file.txt').read().strip().split('\\n')\n",
    "    doc_count = len(_tlinks)\n",
    "    links = enumerate(_tlinks)\n",
    "    \n",
    "    print(doc_count)\n",
    "    if links:\n",
    "        #for idx, link in enumerate(_tlinks):\n",
    "        #    crawl_link_to_index(indexName, idx, link, esUtil)\n",
    "        #time.sleep(5)\n",
    "        print(\"generating  more like this report.......\")\n",
    "        generate_mlt_report(indexName, doc_count, esUtil)\n",
    "    else:\n",
    "        print(\"no links\")"
   ]
  }
 ],
 "metadata": {
  "kernelspec": {
   "display_name": "Python 3",
   "language": "python",
   "name": "python3"
  },
  "language_info": {
   "codemirror_mode": {
    "name": "ipython",
    "version": 3
   },
   "file_extension": ".py",
   "mimetype": "text/x-python",
   "name": "python",
   "nbconvert_exporter": "python",
   "pygments_lexer": "ipython3",
   "version": "3.6.1"
  }
 },
 "nbformat": 4,
 "nbformat_minor": 2
}

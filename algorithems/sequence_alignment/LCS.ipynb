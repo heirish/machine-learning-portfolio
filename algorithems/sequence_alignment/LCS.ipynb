{
 "cells": [
  {
   "cell_type": "markdown",
   "metadata": {},
   "source": [
    "### solve the longest common subsequence problem"
   ]
  },
  {
   "cell_type": "code",
   "execution_count": 11,
   "metadata": {},
   "outputs": [
    {
     "name": "stdout",
     "output_type": "stream",
     "text": [
      "[[0, 0, 0, 0, 0, 0, 0], [0, 0, 0, 0, 1, 1, 1], [0, 0, 0, 0, 1, 2, 2], [0, 1, 1, 1, 1, 2, 2], [0, 1, 1, 1, 1, 2, 2], [0, 1, 1, 2, 2, 2, 2], [0, 1, 1, 2, 2, 2, 2], [0, 1, 1, 2, 2, 2, 3]]\n"
     ]
    }
   ],
   "source": [
    "def createScoreMatrix(list1, list2):\n",
    "    lenList1, lenList2 = len(list1), len(list2)\n",
    "    #initialize matrix\n",
    "    scoreMatrix = [[0]*(lenList2+1) for i in range(lenList1+1)]\n",
    "    #populate the matrix\n",
    "    for i, x in enumerate(list1):\n",
    "        for j, y in enumerate(list2):\n",
    "            if x == y:\n",
    "                scoreMatrix[i+1][j+1] = scoreMatrix[i][j]+1\n",
    "            else:\n",
    "                scoreMatrix[i+1][j+1] = max(scoreMatrix[i][j+1], scoreMatrix[i+1][j])\n",
    "    return scoreMatrix\n",
    "\n",
    "list1=[1, 2, 4, 6,7,8,0]\n",
    "list2=[4,5,7,1,2,0]\n",
    "print(createScoreMatrix(list1, list2))"
   ]
  },
  {
   "cell_type": "code",
   "execution_count": 28,
   "metadata": {},
   "outputs": [
    {
     "name": "stdout",
     "output_type": "stream",
     "text": [
      "[3, '_', '_', '_', 1, 2, 4, 6, 7, 8, 0]\n",
      "[3, 4, 5, 7, 1, 2, '_', '_', '_', '_', 0]\n",
      "[3, 1, 2, 0]\n"
     ]
    }
   ],
   "source": [
    "def traceBack(list1, list2, scoreMatrix):\n",
    "    '''\n",
    "    Return:\n",
    "         alignedList1, alignedList2, commonSub\n",
    "    '''\n",
    "    commonSub=[]\n",
    "    alignedList1 = []\n",
    "    alignedList2 = []\n",
    "    i, j = len(list1), len(list2)\n",
    "    if i == 0 or j == 0:\n",
    "        return list1, list2, commonSub\n",
    "    else:\n",
    "        while i != 0 and j != 0:\n",
    "            if scoreMatrix[i][j] == scoreMatrix[i-1][j]:\n",
    "                alignedList1.append(list1[i-1])\n",
    "                alignedList2.append('_')\n",
    "                i -= 1\n",
    "            elif scoreMatrix[i][j] == scoreMatrix[i][j-1]:\n",
    "                alignedList1.append('_')\n",
    "                alignedList2.append(list2[j-1])\n",
    "                j -= 1\n",
    "            else: #scoreMatrix[i][j] == scoreMatrix[i-1][j-1]\n",
    "                if list1[i-1] == list2[j-1]:\n",
    "                    commonSub.append(list1[i-1])\n",
    "                alignedList1.append(list1[i-1])\n",
    "                alignedList2.append(list2[j-1])\n",
    "                i -= 1\n",
    "                j -= 1\n",
    "    alignedList1.reverse()\n",
    "    alignedList2.reverse()\n",
    "    commonSub.reverse()\n",
    "    return alignedList1, alignedList2, commonSub\n",
    "    \n",
    "    \n",
    "list1=[3, 1, 2, 4, 6,7,8,0]\n",
    "list2=[3, 4,5,7,1,2,0]\n",
    "alignedList1, alignedList2, commonSub = traceBack(list1, list2, createScoreMatrix(list1, list2))\n",
    "print(alignedList1)\n",
    "print(alignedList2)\n",
    "print(commonSub)"
   ]
  },
  {
   "cell_type": "code",
   "execution_count": 29,
   "metadata": {
    "collapsed": true
   },
   "outputs": [],
   "source": [
    "def lcs(list1, list2):\n",
    "    return traceBack(list1, list2, createScoreMatrix(list1, list2))"
   ]
  },
  {
   "cell_type": "code",
   "execution_count": 33,
   "metadata": {},
   "outputs": [
    {
     "name": "stdout",
     "output_type": "stream",
     "text": [
      "['this', 'is', 'a', 'test', 'for', 'text', 'alignment', '_', '_', 'from', 'xxxx']\n",
      "['_', '_', 'a', 'test', 'for', '_', 'alignment', ',', 'heirish', '_', '_']\n",
      "['a', 'test', 'for', 'alignment']\n"
     ]
    }
   ],
   "source": [
    "text1 = \"this is a test for text alignment from xxxx\"\n",
    "text2 = \"Hi, try A test for alignment , Heirish\"\n",
    "list1 = text1.lower().split(\" \")\n",
    "list2 = text2.lower().split(\" \")\n",
    "alignedList1, alignedList2, commonSub = lcs(list1, list2)\n",
    "print(alignedList1)\n",
    "print(alignedList2)\n",
    "print(commonSub)"
   ]
  },
  {
   "cell_type": "code",
   "execution_count": 34,
   "metadata": {},
   "outputs": [
    {
     "name": "stdout",
     "output_type": "stream",
     "text": [
      "['G', 'G', 'A', '_', 'T', '_', 'C', '_', 'G', '_', '_', 'A']\n",
      "['G', '_', 'A', 'A', 'T', 'T', 'C', 'A', 'G', 'T', 'T', 'A']\n",
      "['G', 'A', 'T', 'C', 'G', 'A']\n"
     ]
    }
   ],
   "source": [
    "list1=list(\"GGATCGA\")\n",
    "list2=list(\"GAATTCAGTTA\")\n",
    "alignedList1, alignedList2, commonSub = lcs(list1, list2)\n",
    "print(alignedList1)\n",
    "print(alignedList2)\n",
    "print(commonSub)"
   ]
  },
  {
   "cell_type": "code",
   "execution_count": null,
   "metadata": {
    "collapsed": true
   },
   "outputs": [],
   "source": []
  }
 ],
 "metadata": {
  "kernelspec": {
   "display_name": "Python 3",
   "language": "python",
   "name": "python3"
  },
  "language_info": {
   "codemirror_mode": {
    "name": "ipython",
    "version": 3
   },
   "file_extension": ".py",
   "mimetype": "text/x-python",
   "name": "python",
   "nbconvert_exporter": "python",
   "pygments_lexer": "ipython3",
   "version": "3.6.0"
  }
 },
 "nbformat": 4,
 "nbformat_minor": 2
}

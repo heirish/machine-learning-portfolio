{
 "cells": [
  {
   "cell_type": "markdown",
   "metadata": {},
   "source": [
    "### solve the longest common subsequence problem"
   ]
  },
  {
   "cell_type": "code",
   "execution_count": 30,
   "metadata": {
    "collapsed": true
   },
   "outputs": [],
   "source": [
    "import numpy as np"
   ]
  },
  {
   "cell_type": "code",
   "execution_count": 33,
   "metadata": {},
   "outputs": [
    {
     "name": "stdout",
     "output_type": "stream",
     "text": [
      "[[0 0 0 0 0 0 0]\n",
      " [0 0 0 0 1 1 1]\n",
      " [0 0 0 0 1 2 2]\n",
      " [0 1 1 1 1 2 2]\n",
      " [0 1 1 1 1 2 2]\n",
      " [0 1 1 2 2 2 2]\n",
      " [0 1 1 2 2 2 2]\n",
      " [0 1 1 2 2 2 3]]\n"
     ]
    }
   ],
   "source": [
    "def createScoreMatrix(list1, list2, debug=False):\n",
    "    lenList1, lenList2 = len(list1), len(list2)\n",
    "    #initialize matrix\n",
    "    scoreMatrix = np.zeros((len(list1)+1, len(list2)+1), dtype=int)\n",
    "    #populate the matrix\n",
    "    for i, x in enumerate(list1):\n",
    "        for j, y in enumerate(list2):\n",
    "            if x == y:\n",
    "                scoreMatrix[i+1][j+1] = scoreMatrix[i][j]+1\n",
    "            else:\n",
    "                scoreMatrix[i+1][j+1] = max(scoreMatrix[i][j+1], scoreMatrix[i+1][j])\n",
    "    if debug:\n",
    "        print(scoreMatrix)\n",
    "    return scoreMatrix\n",
    "\n",
    "list1=[1, 2, 4, 6,7,8,0]\n",
    "list2=[4,5,7,1,2,0]\n",
    "print(createScoreMatrix(list1, list2))"
   ]
  },
  {
   "cell_type": "code",
   "execution_count": 34,
   "metadata": {},
   "outputs": [
    {
     "name": "stdout",
     "output_type": "stream",
     "text": [
      "[3, 1, 2, 4, 6, 7, '_', 8, 0]\n",
      "[3, '_', '_', 4, 5, 7, 1, 2, 0]\n",
      "[3, 4, 7, 0]\n"
     ]
    }
   ],
   "source": [
    "def traceBack(list1, list2, scoreMatrix):\n",
    "    '''\n",
    "    Return:\n",
    "         alignedList1, alignedList2, commonSub\n",
    "    '''\n",
    "    commonSub=[]\n",
    "    alignedList1 = []\n",
    "    alignedList2 = []\n",
    "    i, j = len(list1), len(list2)\n",
    "    if i == 0 or j == 0:\n",
    "        return list1, list2, commonSub\n",
    "    else:\n",
    "        while i != 0 and j != 0:\n",
    "            if list1[i-1] == list2[j-1]:\n",
    "                commonSub.append(list1[i-1])\n",
    "                alignedList1.append(list1[i-1])\n",
    "                alignedList2.append(list2[j-1])\n",
    "                i -= 1\n",
    "                j -= 1\n",
    "            elif scoreMatrix[i][j] == scoreMatrix[i-1][j-1]:\n",
    "                alignedList1.append(list1[i-1])\n",
    "                alignedList2.append(list2[j-1])\n",
    "                i -= 1\n",
    "                j -= 1\n",
    "            elif scoreMatrix[i][j] == scoreMatrix[i-1][j]:\n",
    "                alignedList1.append(list1[i-1])\n",
    "                alignedList2.append('_')\n",
    "                i -= 1\n",
    "            else: #scoreMatrix[i][j] == scoreMatrix[i][j-1]:\n",
    "                alignedList1.append('_')\n",
    "                alignedList2.append(list2[j-1])\n",
    "                j -= 1\n",
    "                \n",
    "        #己回滋到最左一行，或最上一列，但未到达0, 0 位置\n",
    "        while i > 0:\n",
    "            alignedList1.append(list1[i-1])\n",
    "            i -= 1\n",
    "        while j > 0:\n",
    "            alignedList2.append(list2[j-1])\n",
    "            j -= 1\n",
    "    alignedList1.reverse()\n",
    "    alignedList2.reverse()\n",
    "    commonSub.reverse()\n",
    "    return alignedList1, alignedList2, commonSub\n",
    "    \n",
    "    \n",
    "list1=[3, 1, 2, 4, 6,7,8,0]\n",
    "list2=[3, 4,5,7,1,2,0]\n",
    "alignedList1, alignedList2, commonSub = traceBack(list1, list2, createScoreMatrix(list1, list2))\n",
    "print(alignedList1)\n",
    "print(alignedList2)\n",
    "print(commonSub)"
   ]
  },
  {
   "cell_type": "code",
   "execution_count": 35,
   "metadata": {
    "collapsed": true
   },
   "outputs": [],
   "source": [
    "#这里我们只打印一个结果，实际上可能出现多个结果\n",
    "#要打印多个结果时，就要像smith-waterman算法一样，从scoreMatrix中找到分值最大的单元格，然后再分别进行回溯求能匹配上的子序列。\n",
    "#当有多个结果时，在scoreMatrix矩阵中的分值最大的有多个单元格\n",
    "def lcs_one(list1, list2, debug=False):\n",
    "    return traceBack(list1, list2, createScoreMatrix(list1, list2, debug))"
   ]
  },
  {
   "cell_type": "code",
   "execution_count": 36,
   "metadata": {},
   "outputs": [
    {
     "name": "stdout",
     "output_type": "stream",
     "text": [
      "['this', 'is', 'a', 'test', 'for', 'text', 'alignment', 'from', 'xxxx']\n",
      "['hi,', 'try', 'a', 'test', 'for', '_', 'alignment', ',', 'heirish']\n",
      "['a', 'test', 'for', 'alignment']\n"
     ]
    }
   ],
   "source": [
    "text1 = \"this is a test for text alignment from xxxx\"\n",
    "text2 = \"Hi, try A test for alignment , Heirish\"\n",
    "list1 = text1.lower().split(\" \")\n",
    "list2 = text2.lower().split(\" \")\n",
    "alignedList1, alignedList2, commonSub = lcs_one(list1, list2)\n",
    "print(alignedList1)\n",
    "print(alignedList2)\n",
    "print(commonSub)"
   ]
  },
  {
   "cell_type": "code",
   "execution_count": 37,
   "metadata": {},
   "outputs": [
    {
     "name": "stdout",
     "output_type": "stream",
     "text": [
      "['G', 'G', 'A', '_', 'T', 'C', '_', 'G', '_', '_', 'A']\n",
      "['G', 'A', 'A', 'T', 'T', 'C', 'A', 'G', 'T', 'T', 'A']\n",
      "['G', 'A', 'T', 'C', 'G', 'A']\n"
     ]
    }
   ],
   "source": [
    "list1=list(\"GGATCGA\")\n",
    "list2=list(\"GAATTCAGTTA\")\n",
    "alignedList1, alignedList2, commonSub = lcs_one(list1, list2)\n",
    "print(alignedList1)\n",
    "print(alignedList2)\n",
    "print(commonSub)"
   ]
  },
  {
   "cell_type": "code",
   "execution_count": 38,
   "metadata": {},
   "outputs": [
    {
     "name": "stdout",
     "output_type": "stream",
     "text": [
      "['G', 'C', 'C', 'C', 'T', 'A', 'G', 'C', 'G']\n",
      "['G', 'C', 'G', 'C', '_', 'A', 'A', 'T', 'G']\n",
      "['G', 'C', 'C', 'A', 'G']\n"
     ]
    }
   ],
   "source": [
    "list1 = list(\"GCCCTAGCG\")\n",
    "list2 = list(\"GCGCAATG\")\n",
    "alignedList1, alignedList2, commonSub = lcs_one(list1, list2)\n",
    "print(alignedList1)\n",
    "print(alignedList2)\n",
    "print(commonSub)"
   ]
  },
  {
   "cell_type": "code",
   "execution_count": 39,
   "metadata": {},
   "outputs": [
    {
     "name": "stdout",
     "output_type": "stream",
     "text": [
      "['a', 'l', '_', 'g', '_', 'o', 'r', 'i', 't', 'h', 'm']\n",
      "['a', 'l', 'i', 'g', 'n', 'm', 'e', 'n', 't', '_', '_']\n",
      "['a', 'l', 'g', 't']\n"
     ]
    }
   ],
   "source": [
    "list1 = list(\"algorithm\")\n",
    "list2 = list(\"alignment\")\n",
    "alignedList1, alignedList2, commonSub = lcs_one(list1, list2)\n",
    "print(alignedList1)\n",
    "print(alignedList2)\n",
    "print(commonSub)"
   ]
  },
  {
   "cell_type": "code",
   "execution_count": 40,
   "metadata": {},
   "outputs": [
    {
     "name": "stdout",
     "output_type": "stream",
     "text": [
      "[[0 0 0 0 0 0 0]\n",
      " [0 0 0 0 1 1 1]\n",
      " [0 1 1 1 1 2 2]\n",
      " [0 1 1 2 2 2 2]\n",
      " [0 1 1 2 2 3 3]\n",
      " [0 1 2 2 2 3 3]\n",
      " [0 1 2 2 3 3 4]\n",
      " [0 1 2 2 3 4 4]]\n",
      "['A', 'B', '_', 'C', '_', 'B', 'D', 'A', 'B']\n",
      "['B', 'D', 'C', 'A', 'B', '_', 'A', '_']\n",
      "['B', 'C', 'B', 'A']\n"
     ]
    }
   ],
   "source": [
    "list1 = list(\"ABCBDAB\")\n",
    "list2 = list(\"BDCABA\")\n",
    "alignedList1, alignedList2, commonSub = lcs_one(list1, list2, True)\n",
    "print(alignedList1)\n",
    "print(alignedList2)\n",
    "print(commonSub)"
   ]
  },
  {
   "cell_type": "code",
   "execution_count": null,
   "metadata": {
    "collapsed": true
   },
   "outputs": [],
   "source": []
  }
 ],
 "metadata": {
  "kernelspec": {
   "display_name": "Python 3",
   "language": "python",
   "name": "python3"
  },
  "language_info": {
   "codemirror_mode": {
    "name": "ipython",
    "version": 3
   },
   "file_extension": ".py",
   "mimetype": "text/x-python",
   "name": "python",
   "nbconvert_exporter": "python",
   "pygments_lexer": "ipython3",
   "version": "3.6.1"
  }
 },
 "nbformat": 4,
 "nbformat_minor": 2
}

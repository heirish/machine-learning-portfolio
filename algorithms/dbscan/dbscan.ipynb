{
 "cells": [
  {
   "cell_type": "markdown",
   "metadata": {},
   "source": [
    "## 参考:\n",
    "https://www.cnblogs.com/wsine/p/5180778.html"
   ]
  },
  {
   "cell_type": "code",
   "execution_count": 1,
   "metadata": {
    "collapsed": true
   },
   "outputs": [],
   "source": [
    "import numpy as np\n",
    "import matplotlib.pyplot as plt\n",
    "import math\n",
    "import time\n",
    "UNCLASSIFIED = False\n",
    "NOISE = 0"
   ]
  },
  {
   "cell_type": "code",
   "execution_count": 2,
   "metadata": {
    "collapsed": true
   },
   "outputs": [],
   "source": [
    "def loadDataSet(fileName, splitChar='\\t'):\n",
    "    \"\"\"\n",
    "    Description:load data to a list\n",
    "    Parameters:\n",
    "        fileName:\n",
    "        splitChar:\n",
    "    Return:\n",
    "        a list with data\n",
    "    \"\"\"\n",
    "    dataSet = []\n",
    "    with open(fileName) as f:\n",
    "        for line in f.readlines():\n",
    "            curline = line.strip().split(splitChar)\n",
    "            fltline = list(map(float, curline))\n",
    "            dataSet.append(fltline)\n",
    "    return dataSet    "
   ]
  },
  {
   "cell_type": "code",
   "execution_count": 3,
   "metadata": {
    "collapsed": true
   },
   "outputs": [],
   "source": [
    "def dist(a,b):\n",
    "    \"\"\"\n",
    "    Description: calculate euclidean distance\n",
    "    Parameters:\n",
    "        a, b - two vectors\n",
    "    Return:\n",
    "        euclidean distance\n",
    "    \"\"\"\n",
    "    return math.sqrt(np.power(a-b,2).sum())"
   ]
  },
  {
   "cell_type": "code",
   "execution_count": 4,
   "metadata": {
    "collapsed": true
   },
   "outputs": [],
   "source": [
    "def eps_neighbor(a,b, eps):\n",
    "    \"\"\"\n",
    "    Description:check if ab is neighbor in eps distance\n",
    "    Parameters:\n",
    "        a,b - vectors\n",
    "        eps - distance threshold\n",
    "    Return: boolean\n",
    "    \"\"\"\n",
    "    return dist(a,b) < eps"
   ]
  },
  {
   "cell_type": "code",
   "execution_count": 5,
   "metadata": {
    "collapsed": true
   },
   "outputs": [],
   "source": [
    "def region_query(data, pointId, eps):\n",
    "    \"\"\"\n",
    "    Description:search for points that in eps distance of pointId in data\n",
    "    Parameters:\n",
    "        data - search from data\n",
    "        pointId - core point index\n",
    "        eps - distance\n",
    "    Return:\n",
    "        index of all points in eps distance of core point pointId\n",
    "    \"\"\"\n",
    "    nPoints = data.shape[1]\n",
    "    seeds = []\n",
    "    for i in range(nPoints):\n",
    "        if eps_neighbor(data[:, pointId], data[:, i],eps):\n",
    "            seeds.append(i)\n",
    "    return seeds"
   ]
  },
  {
   "cell_type": "code",
   "execution_count": 16,
   "metadata": {
    "collapsed": true
   },
   "outputs": [],
   "source": [
    "def expand_cluster(data, clusterResult, pointId, clusterId, eps, minPts):\n",
    "    \"\"\"\n",
    "    Description: expand cluster for core pointId\n",
    "    Parameters:\n",
    "        data - training data set\n",
    "        clusterResult - cluster result with data index, same size with data\n",
    "        pointId - core point index\n",
    "        clusterId - id of cluster to be expanded\n",
    "        eps - distance\n",
    "        minPts - min neighbor points for core point\n",
    "    Return:\n",
    "        True - expand succeed\n",
    "        False - pointId is a NOISE\n",
    "    \"\"\"\n",
    "    seeds = region_query(data, pointId, eps)\n",
    "    if len(seeds) < minPts: \n",
    "        clusterResult[pointId] = NOISE\n",
    "        return False\n",
    "    else:\n",
    "        clusterResult[pointId] = clusterId\n",
    "        for seed in seeds:\n",
    "            clusterResult[seed] = clusterId\n",
    "            \n",
    "    while len(seeds) > 0:   #keep expanding\n",
    "        currentPoint = seeds[0]\n",
    "        queryResults = region_query(data, currentPoint, eps)\n",
    "        if len(queryResults) >= minPts:\n",
    "            for i in range(len(queryResults)):\n",
    "                resultPoint = queryResults[i]\n",
    "                if clusterResult[resultPoint] == UNCLASSIFIED:\n",
    "                    seeds.append(resultPoint)\n",
    "                    clusterResult[resultPoint] = clusterId\n",
    "                elif clusterResult[resultPoint] == NOISE:\n",
    "                    clusterResult[resultPoint] = clusterId\n",
    "        seeds = seeds[1:]\n",
    "    return True          "
   ]
  },
  {
   "cell_type": "code",
   "execution_count": 17,
   "metadata": {
    "collapsed": true
   },
   "outputs": [],
   "source": [
    "def dbscan(data, eps, minPts):\n",
    "    \"\"\"\n",
    "    Description:dbscan clustering algorithm\n",
    "    Parameters:\n",
    "        data - training data set\n",
    "        eps - distance\n",
    "        minPts - \n",
    "    Return:\n",
    "        clusterResult - clustered data set\n",
    "        clusters - clustered clusters\n",
    "    \"\"\"\n",
    "    clusterId = 1\n",
    "    nPoints = data.shape[1]\n",
    "    clusterResult = [UNCLASSIFIED] * nPoints\n",
    "    for pointId in range (nPoints):\n",
    "        point = data[:,pointId]\n",
    "        if clusterResult[pointId] == UNCLASSIFIED:\n",
    "            if expand_cluster(data, clusterResult, pointId, clusterId, eps, minPts):\n",
    "                clusterId = clusterId + 1\n",
    "    return clusterResult, clusterId - 1"
   ]
  },
  {
   "cell_type": "code",
   "execution_count": 59,
   "metadata": {
    "collapsed": true
   },
   "outputs": [],
   "source": [
    "def saveResults(clusterResult, filename):\n",
    "    np.savetxt(filename, clusterResult, delimiter=',')    "
   ]
  },
  {
   "cell_type": "code",
   "execution_count": 85,
   "metadata": {},
   "outputs": [],
   "source": [
    "def plotCluster(data, clusters, clusterNum):\n",
    "    nPoints = data.shape[1]\n",
    "    matClusters = np.mat(clusters).transpose()\n",
    "    print(matClusters[:10])\n",
    "    fig = plt.figure()\n",
    "    scatterColors = [\"black\",\"blue\", \"green\", \"yellow\", \"red\", \"purple\", \"orange\", \"brown\"]\n",
    "    ax = fig.add_subplot(111)\n",
    "    for i in range(clusterNum+1):\n",
    "        colorStyle = scatterColors[i % len(scatterColors)]\n",
    "        subCluster = data[:, np.nonzero(matClusters[:, 0].A == i)[:-1]] # do i need to add [0]?\n",
    "        if i == 7:\n",
    "            print(data.shape)\n",
    "            print(subCluster.shape)\n",
    "            print(subCluster)\n",
    "            print(subCluster[0, :].flatten())\n",
    "        ax.scatter(subCluster[0, :].flatten().A[0], subCluster[1, :].flatten().A[0], c=colorStyle, s=50)\n",
    "    plt.show()"
   ]
  },
  {
   "cell_type": "code",
   "execution_count": 86,
   "metadata": {
    "collapsed": true
   },
   "outputs": [],
   "source": [
    "def main():\n",
    "    dataSet = loadDataSet(\"788points.txt\", splitChar=\",\")\n",
    "    dataSet = np.mat(dataSet).transpose()\n",
    "    print(dataSet[:, :10])\n",
    "    clusterResult, clusterNum = dbscan(dataSet, 2, 15)\n",
    "    saveResults(clusterResult, \"788Results.txt\")\n",
    "    print(\"cluster Numbers = \", clusterNum)\n",
    "    print(clusterResult[:10])\n",
    "    plotCluster(dataSet, clusterResult, clusterNum)"
   ]
  },
  {
   "cell_type": "code",
   "execution_count": 87,
   "metadata": {},
   "outputs": [
    {
     "name": "stdout",
     "output_type": "stream",
     "text": [
      "[[ 15.55  14.9   14.45  14.15  13.75  13.35  13.    13.45  13.6   12.8 ]\n",
      " [ 28.65  27.55  28.35  28.8   28.05  28.45  29.15  27.5   26.5   27.35]]\n",
      "cluster Numbers =  7\n",
      "[0, 1, 1, 1, 1, 1, 1, 1, 1, 1]\n",
      "[[0]\n",
      " [1]\n",
      " [1]\n",
      " [1]\n",
      " [1]\n",
      " [1]\n",
      " [1]\n",
      " [1]\n",
      " [1]\n",
      " [1]]\n",
      "(2, 788)\n",
      "(2, 1, 34)\n",
      "[[[ 5.2   6.35  6.75  5.9   5.4   4.85  4.85  5.15  5.7   6.2   6.2   7.65\n",
      "    7.2   6.75  6.75  6.65  5.8   4.95  5.1   5.7   5.45  6.7   6.55  7.2\n",
      "    6.2   7.1   7.85  7.6   7.25  7.8   8.05  8.5   8.1   8.15]]\n",
      "\n",
      " [[ 2.15  1.95  2.3   2.4   2.7   2.9   3.35  3.45  3.45  3.    3.2   2.15\n",
      "    2.75  3.2   3.55  3.8   4.    4.05  4.35  4.45  4.85  4.8   5.05  4.9\n",
      "    4.25  4.3   4.5   4.15  3.55  3.35  2.75  3.25  3.55  4.  ]]]\n",
      "[[ 5.2   6.35  6.75  5.9   5.4   4.85  4.85  5.15  5.7   6.2   6.2   7.65\n",
      "   7.2   6.75  6.75  6.65  5.8   4.95  5.1   5.7   5.45  6.7   6.55  7.2\n",
      "   6.2   7.1   7.85  7.6   7.25  7.8   8.05  8.5   8.1   8.15]]\n"
     ]
    },
    {
     "data": {
      "image/png": "[encoded data removed]",
      "text/plain": [
       "<matplotlib.figure.Figure at 0x7fd5390>"
      ]
     },
     "metadata": {},
     "output_type": "display_data"
    },
    {
     "name": "stdout",
     "output_type": "stream",
     "text": [
      "finish in 23.974304522708735 \n"
     ]
    }
   ],
   "source": [
    "if __name__ == \"__main__\":\n",
    "    start = time.clock()\n",
    "    main()\n",
    "    end = time.clock()\n",
    "    print(\"finish in %s \" % str(end-start))"
   ]
  },
  {
   "cell_type": "code",
   "execution_count": null,
   "metadata": {
    "collapsed": true
   },
   "outputs": [],
   "source": []
  }
 ],
 "metadata": {
  "kernelspec": {
   "display_name": "Python 3",
   "language": "python",
   "name": "python3"
  },
  "language_info": {
   "codemirror_mode": {
    "name": "ipython",
    "version": 3
   },
   "file_extension": ".py",
   "mimetype": "text/x-python",
   "name": "python",
   "nbconvert_exporter": "python",
   "pygments_lexer": "ipython3",
   "version": "3.6.0"
  }
 },
 "nbformat": 4,
 "nbformat_minor": 2
}

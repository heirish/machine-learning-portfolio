{
 "cells": [
  {
   "cell_type": "markdown",
   "metadata": {},
   "source": [
    "### TF-IDF"
   ]
  },
  {
   "cell_type": "code",
   "execution_count": 2,
   "metadata": {
    "collapsed": true
   },
   "outputs": [],
   "source": [
    "from sklearn.feature_extraction.text import TfidfVectorizer\n",
    "import pandas as pd"
   ]
  },
  {
   "cell_type": "code",
   "execution_count": 24,
   "metadata": {
    "collapsed": true
   },
   "outputs": [],
   "source": [
    "def createDTM(messages):\n",
    "    #vect = TfidfVectorizer(stop_words=\"english\")\n",
    "    vect = TfidfVectorizer()\n",
    "    dtm = vect.fit_transform(messages)\n",
    "    print(vect.get_feature_names())\n",
    "    #print(vect.vocabulary_)\n",
    "    print(dtm.todense())\n",
    "    #print(dtm.toarray())\n",
    "    #print(vect.get_stop_words())"
   ]
  },
  {
   "cell_type": "code",
   "execution_count": 27,
   "metadata": {},
   "outputs": [
    {
     "name": "stdout",
     "output_type": "stream",
     "text": [
      "['favor', 'get', 'hey', 'lets', 'lunch', 'need']\n",
      "[[ 0.          0.53404633  0.37997836  0.53404633  0.53404633  0.        ]\n",
      " [ 0.6316672   0.          0.44943642  0.          0.          0.6316672 ]]\n"
     ]
    }
   ],
   "source": [
    "messages = [\"Hey lets get lunch :)\",\n",
    "           \"Hey!!! I need a favor\"]\n",
    "createDTM(messages)"
   ]
  },
  {
   "cell_type": "code",
   "execution_count": 28,
   "metadata": {},
   "outputs": [
    {
     "name": "stdout",
     "output_type": "stream",
     "text": [
      "['favor', 'get', 'hey', 'lets', 'lunch', 'need']\n",
      "[[ 0.          0.36378803  0.77651453  0.36378803  0.36378803  0.        ]\n",
      " [ 0.6316672   0.          0.44943642  0.          0.          0.6316672 ]]\n"
     ]
    }
   ],
   "source": [
    "#注意看hey的输出值变化\n",
    "messages = [\"Hey hey hey lets get lunch :)\",\n",
    "           \"Hey!!! I need a favor\"]\n",
    "createDTM(messages)"
   ]
  },
  {
   "cell_type": "code",
   "execution_count": 29,
   "metadata": {},
   "outputs": [
    {
     "name": "stdout",
     "output_type": "stream",
     "text": [
      "['favor', 'get', 'hey', 'lets', 'lunch', 'need']\n",
      "[[ 0.          0.28867513  0.8660254   0.28867513  0.28867513  0.        ]\n",
      " [ 0.70710678  0.          0.          0.          0.          0.70710678]]\n"
     ]
    }
   ],
   "source": [
    "#注意看hey的输出值变化\n",
    "messages = [\"Hey hey hey lets get lunch :)\",\n",
    "           \"I need a favor\"]\n",
    "createDTM(messages)"
   ]
  },
  {
   "cell_type": "markdown",
   "metadata": {},
   "source": [
    "### 其它参数：\n",
    "- max_features = n : only considers the top n words orderd by term frequency\n",
    "- min_df = n : ignores words with a document frequency below n\n",
    "- max_df = n : ignores words with a document frequency above n\n",
    "- stop_words = [’ ‘] : ignores common words like 'the', 'that', 'which', etc. You’ll need to define in a list what words you want to include. There are lists of common stop words available online, the NLTK library also has a list of stop words built into it."
   ]
  },
  {
   "cell_type": "code",
   "execution_count": null,
   "metadata": {
    "collapsed": true
   },
   "outputs": [],
   "source": []
  }
 ],
 "metadata": {
  "kernelspec": {
   "display_name": "Python 3",
   "language": "python",
   "name": "python3"
  },
  "language_info": {
   "codemirror_mode": {
    "name": "ipython",
    "version": 3
   },
   "file_extension": ".py",
   "mimetype": "text/x-python",
   "name": "python",
   "nbconvert_exporter": "python",
   "pygments_lexer": "ipython3",
   "version": "3.6.1"
  }
 },
 "nbformat": 4,
 "nbformat_minor": 2
}

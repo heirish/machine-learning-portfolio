{
 "cells": [
  {
   "cell_type": "code",
   "execution_count": 1,
   "metadata": {},
   "outputs": [
    {
     "name": "stderr",
     "output_type": "stream",
     "text": [
      "D:\\Program_Files\\Anaconda3\\lib\\site-packages\\ipykernel_launcher.py:20: UserWarning: This is a warning message.\n",
      "D:\\Program_Files\\Anaconda3\\lib\\site-packages\\ipykernel_launcher.py:21: DeprecationWarning: The 'warn' function is deprecated, use 'warning' instead\n",
      "WARNING:root:[+] This is a warn message.\n",
      "INFO:root:[+] This is a info message.\n"
     ]
    }
   ],
   "source": [
    "#!/usr/bin/env python  \n",
    "# -*- coding: utf8 -*- \n",
    "     \n",
    "import logging \n",
    "import warnings  \n",
    "     \n",
    "     \n",
    "logging.basicConfig(level=logging.INFO) \n",
    " \n",
    " \n",
    "def filterwarn(): \n",
    "    # warnings.simplefilter('ignore', UserWarning) \n",
    "    # advance warnings flter function \n",
    "    warnings.filterwarnings('ignore', '.*warn.*', UserWarning, 'module') \n",
    " \n",
    " \n",
    "def main(): \n",
    "    filterwarn() \n",
    "    # compare the two following items. \n",
    "    warnings.warn(\"This is a warning message.\") \n",
    "    logging.warn(\"[+] This is a warn message.\") \n",
    " \n",
    "    logging.info(\"[+] This is a info message.\") \n",
    " \n",
    "if __name__ == \"__main__\": \n",
    "    main()"
   ]
  },
  {
   "cell_type": "code",
   "execution_count": 2,
   "metadata": {
    "collapsed": true
   },
   "outputs": [],
   "source": [
    "text = \"projectName:\"\"test\"\" AND body:\"\"Hello\"\"\""
   ]
  },
  {
   "cell_type": "code",
   "execution_count": 3,
   "metadata": {},
   "outputs": [
    {
     "name": "stdout",
     "output_type": "stream",
     "text": [
      "projectName%3A%22test%22%20AND%20%28body%3A%22FAILURE_DB%22%29\n"
     ]
    }
   ],
   "source": [
    "from urllib import parse\n",
    "\n",
    "#这个是js的结果\n",
    "# encodeURIComponent('中国')\n",
    "# \"%E4%B8%AD%E5%9B%BD\"\n",
    "#jsRet='%E4%B8%AD%E5%9B%BD'\n",
    "#print(parse.unquote(jsRet))       #输出：中国\n",
    "#print(jsRet==parse.quote('中国'))  #输出：True\n",
    "print(parse.quote(\"projectName:\\\"test\\\" AND (body:\\\"FAILURE_DB\\\")\"))"
   ]
  },
  {
   "cell_type": "code",
   "execution_count": 69,
   "metadata": {},
   "outputs": [],
   "source": [
    "from Utils import utilIdentifier\n",
    "import importlib\n",
    "importlib.reload(utilIdentifier)\n",
    "\n",
    "def identifyText(text):\n",
    "    text = utilIdentifier.identifyIP(text)\n",
    "    text = utilIdentifier.identifyDatetime(text)\n",
    "    text = utilIdentifier.identifyUri(text)\n",
    "    #text = utilIdentifier.identifyNumber(text), 由后面的token去掉\n",
    "    return text"
   ]
  },
  {
   "cell_type": "code",
   "execution_count": 71,
   "metadata": {},
   "outputs": [
    {
     "name": "stdout",
     "output_type": "stream",
     "text": [
      "IP_TYPE IP_TYPE DATETIME_TYPE [warn]: dest=URL_TYPE #0 failed to flush the buffer IP_TYPE . retry_time=2 next_retry_seconds=DATETIME_TYPE chunk=56745277a4532957f8c4fe9e070b75d1 error_class=NoMethodError error=undefined method `has_key?' for #<String:0x007ff21c6d91b8>\n",
      "IP_TYPE NNP ip_type\n",
      "IP_TYPE NNP ip_type\n",
      "DATETIME_TYPE NNP datetime_type\n",
      "[ -LRB- [\n",
      "warn VBP warn\n",
      "] -RRB- ]\n",
      ": : :\n",
      "dest JJS d\n",
      "= SYM =\n",
      "URL_TYPE NNS url_type\n",
      "# $ #\n",
      "0 CD 0\n",
      "failed VBD fail\n",
      "to TO to\n",
      "flush VB flush\n",
      "the DT the\n",
      "buffer NN buffer\n",
      "IP_TYPE NN ip_type\n",
      ". . .\n",
      "retry_time=2 CD retry_time=2\n",
      "next_retry_seconds NNS next_retry_second\n",
      "= SYM =\n",
      "DATETIME_TYPE NNS datetime_type\n",
      "chunk=56745277a4532957f8c4fe9e070b75d1 VBP chunk=56745277a4532957f8c4fe9e070b75d1\n",
      "error_class NN error_class\n",
      "= SYM =\n",
      "NoMethodError NN nomethoderror\n",
      "error NN error\n",
      "= SYM =\n",
      "undefined JJ undefined\n",
      "method NN method\n",
      "` '' `\n",
      "has_key NN has_key\n",
      "? . ?\n",
      "' '' '\n",
      "for IN for\n",
      "# $ #\n",
      "< XX <\n",
      "String:0x007ff21c6d91b8 XX string:0x007ff21c6d91b8\n",
      "> XX >\n"
     ]
    }
   ],
   "source": [
    "import spacy\n",
    "import string\n",
    "\n",
    "text = \"192.168.1.100 fe80::20c:29ff:fe75:f519/64 2018-03-13 16:27:24 +0900 [warn]: dest=http://github.com/obdg/plda.git #0 failed to flush the buffer fe80::20c:29ff:fe75:f519/64 . retry_time=2 next_retry_seconds=2018-03-13 16:27:54 +0900 chunk=\"\"56745277a4532957f8c4fe9e070b75d1\"\" error_class=NoMethodError error=\"\"undefined method `has_key?' for #<String:0x007ff21c6d91b8>\"\n",
    "\n",
    "text = identifyText(text)\n",
    "print(text)\n",
    "#https://spacy.io/usage/processing-pipelines\n",
    "#https://github.com/explosion/spaCy/issues/1837\n",
    "parser = spacy.load('en', disable=['parser', 'ner'])\n",
    "tokens = parser(text)\n",
    "for tok in tokens:\n",
    "    print(tok, tok.tag_, tok.lemma_)\n",
    "    \n",
    "#for ent in tokens.ents:\n",
    "#    print(ent, ent.label, ent.lable_)"
   ]
  },
  {
   "cell_type": "code",
   "execution_count": 72,
   "metadata": {},
   "outputs": [
    {
     "name": "stdout",
     "output_type": "stream",
     "text": [
      "Caused by: DAOException: Error querying students from database\n",
      "at StudentManager.findStudents(StudentManager.java:13)\n",
      "yes\n"
     ]
    }
   ],
   "source": [
    "import re\n",
    "text=\"\"\" \n",
    "StudentException: Error finding students\n",
    "        at StudentManager.findStudents(StudentManager.java:13)\n",
    "        at StudentProgram.main(StudentProgram.java:9)\n",
    "Caused by: DAOException: Error querying students from database\n",
    "        at StudentDAO.list(StudentDAO.java:11)\n",
    "        at StudentManager.findStudents(StudentManager.java:11)\n",
    "        ... 1 more\n",
    "Caused by: java.sql.SQLException: Syntax Error\n",
    "        at DatabaseUtils.executeQuery(DatabaseUtils.java:5)\n",
    "        at StudentDAO.list(StudentDAO.java:8)\n",
    "        ... 2 more\n",
    "\"\"\"\n",
    "from Utils import utilIdentifier\n",
    "import importlib\n",
    "importlib.reload(utilIdentifier)\n",
    "\n",
    "m1 =re.search(r\"Caused by:.*\", text)\n",
    "m2 = re.search(r\"at.*\\(.*.java:\\d+\\)\", text)\n",
    "if m1:\n",
    "    print(m1.group(0))\n",
    "if m2:\n",
    "    print(m2.group(0))\n",
    "        \n",
    "if utilIdentifier.isJavaStackTrace(text):\n",
    "    print(\"yes\")\n"
   ]
  },
  {
   "cell_type": "code",
   "execution_count": null,
   "metadata": {
    "collapsed": true
   },
   "outputs": [],
   "source": []
  }
 ],
 "metadata": {
  "kernelspec": {
   "display_name": "Python 3",
   "language": "python",
   "name": "python3"
  },
  "language_info": {
   "codemirror_mode": {
    "name": "ipython",
    "version": 3
   },
   "file_extension": ".py",
   "mimetype": "text/x-python",
   "name": "python",
   "nbconvert_exporter": "python",
   "pygments_lexer": "ipython3",
   "version": "3.6.1"
  }
 },
 "nbformat": 4,
 "nbformat_minor": 2
}

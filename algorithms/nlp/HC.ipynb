{
 "cells": [
  {
   "cell_type": "markdown",
   "metadata": {},
   "source": [
    "## this is a stream input data example. the data is not processed in batch, it's processed one by one.\n",
    "### 1. identify datetime, IP\n",
    "### 2. tokenization: split text and identify number\n",
    "### 3. cluster\n",
    "### 4. alignment\n",
    "### 5. pattern retrieve"
   ]
  },
  {
   "cell_type": "markdown",
   "metadata": {},
   "source": [
    "### identify datetime, IP\n",
    "because these pre-defined types are not so valuable to the pattern recognition. we will ignore these info."
   ]
  },
  {
   "cell_type": "code",
   "execution_count": 6,
   "metadata": {},
   "outputs": [],
   "source": [
    "def preprocess(text):\n",
    "    return text"
   ]
  },
  {
   "cell_type": "markdown",
   "metadata": {},
   "source": [
    "### tokenization: split text and identify number"
   ]
  },
  {
   "cell_type": "code",
   "execution_count": 8,
   "metadata": {
    "collapsed": true
   },
   "outputs": [],
   "source": [
    "def tokenized(text):\n",
    "    return tokens"
   ]
  },
  {
   "cell_type": "markdown",
   "metadata": {},
   "source": [
    "### Clustering:\n",
    "#### input: a stream of data, and a maxDist and a distance function and cluster level, as parameter\n",
    "#### cached data: clusters(id + representive log id + log ids) tree\n",
    "#### output: updated clusters(level of the tree)"
   ]
  },
  {
   "cell_type": "code",
   "execution_count": 24,
   "metadata": {},
   "outputs": [],
   "source": [
    "c_tree = {0:{}}\n",
    "#format:level:{node_id:{\"pattern\":\"\", \"data\":[pids]}}, the representive_id is the first element id \"data\", ex.\n",
    "#c_tree = {\n",
    "#0:{0:{\"pattern\":\"\", \"data\":[2,4,6]}, 1:{\"pattern\":\"\", \"data\":[3,7,9]}, 2:{\"pattern\":\"\", \"data\":[1, 10]}},\n",
    "#1:{0:{\"pattern\":\"\", \"data\":[1,3]}, 1:{\"pattern\":\"\", \"data\":[2]}},\n",
    "#2:{0:{\"pattern\":\"\", \"data\":[1]}}\n",
    "#}\n",
    "#TODO:    \n",
    "def defaultDistFunc(text1, text2):\n",
    "    dist = 0.001#cal dist between text1 and text2\n",
    "    return dist\n",
    "\n",
    "#TODO:\n",
    "def getTextFromId(id):\n",
    "    text = \"\"\n",
    "    return id\n",
    "\n",
    "def UpdateCTree(dataId, maxDist=0.01, distF=defaultDistFunc, nodeLevel=0):\n",
    "    dataText = getTextFromId(dataId)\n",
    "    if dataText is None:\n",
    "        raise ValueError(\"can not text from id\", dataId)\n",
    "        \n",
    "    max_level = max(c_tree.keys())\n",
    "    if nodeLevel == max_level + 1:\n",
    "        c_tree[nodeLevel] = {}\n",
    "    elif nodeLevel not in c_tree:\n",
    "        raise ValueError(\"nodeLevel is invalid\")\n",
    "    \n",
    "    if not c_tree[nodeLevel] or not c_tree[nodeLevel].keys(): #clusters is empty\n",
    "        c_tree[nodeLevel][0] = {\"pattern\":\"\", \"data\":[dataId]}\n",
    "        return c_tree[nodeLevel]\n",
    "    \n",
    "    #calculate distance with all the node representive, if dist < maxDist, add it in to that cluster\n",
    "    node_ids = c_tree[nodeLevel].keys()\n",
    "    found  = False\n",
    "    for node_id in node_ids:\n",
    "        data_list = c_tree[nodeLevel][node_id][\"data\"]\n",
    "        if not data_list:\n",
    "            continue\n",
    "        node_representive = getTextFromId(data_list[0])\n",
    "        if distF(dataText, node_representive) <= maxDist:\n",
    "            data_list.append(dataId)\n",
    "            c_tree[nodeLevel][node_id][\"data\"] = data_list\n",
    "            found = True\n",
    "            break\n",
    "    if not found:\n",
    "        node_id = max(node_ids) +1\n",
    "        c_tree[nodeLevel][node_id] = {\"pattern\":\"\", \"data\":[dataId]}\n",
    "        \n",
    "    return c_tree[nodeLevel]"
   ]
  },
  {
   "cell_type": "markdown",
   "metadata": {},
   "source": [
    "### alignment:\n",
    "#### from leaf to root, merge \"pattern\" with the last element in \"data\", update the \"pattern\" field"
   ]
  },
  {
   "cell_type": "code",
   "execution_count": 39,
   "metadata": {
    "collapsed": true
   },
   "outputs": [],
   "source": [
    "#TODO\n",
    "def SWAlignment(text1, text2):\n",
    "    aligned_text = text\n",
    "    return aligned_text\n",
    "    \n",
    "def UpdatePatterns():\n",
    "    levels = sorted(c_tree.keys())\n",
    "    for level in levels:\n",
    "        for node_id, cluster in c_tree[level].items():\n",
    "            old_pattern = cluster[\"pattern\"]\n",
    "            data_list = cluster[\"data\"]\n",
    "            if not data_list:\n",
    "                continue\n",
    "            if old_pattern == \"\":\n",
    "                c_tree[level][node_id][\"pattern\"] = data_list[0]\n",
    "                continue\n",
    "            \n",
    "            latest_data = getTextFromId(data_list[-1])\n",
    "            if not latest_data:\n",
    "                continue\n",
    "            c_tree[level][node_id][\"pattern\"] = SWAlignment(old_pattern, latest_data)"
   ]
  },
  {
   "cell_type": "code",
   "execution_count": 38,
   "metadata": {},
   "outputs": [
    {
     "name": "stdout",
     "output_type": "stream",
     "text": [
      "dict_keys([0, 1, 2])\n",
      "[0, 1, 2]\n",
      "2\n"
     ]
    }
   ],
   "source": [
    "c_tree={0:{0:{\"pattern\":\"\", \"data\":[3, 2, 7, 9]}, 1:{\"pattern\":\"\", \"data\":[4,1.5 ]}},\n",
    "       1:{0:{\"pattern\":\"\", \"data\":[20, 21]}, 1:{\"pattern\":\"\", \"data\":[23,15]}},\n",
    "       2:{}}\n",
    "print(c_tree.keys())\n",
    "levels = c_tree.keys()\n",
    "sorted_levels = sorted(levels)\n",
    "print(sorted_levels)\n",
    "print(sorted_levels[-1])\n"
   ]
  },
  {
   "cell_type": "code",
   "execution_count": null,
   "metadata": {
    "collapsed": true
   },
   "outputs": [],
   "source": []
  }
 ],
 "metadata": {
  "kernelspec": {
   "display_name": "Python 3",
   "language": "python",
   "name": "python3"
  },
  "language_info": {
   "codemirror_mode": {
    "name": "ipython",
    "version": 3
   },
   "file_extension": ".py",
   "mimetype": "text/x-python",
   "name": "python",
   "nbconvert_exporter": "python",
   "pygments_lexer": "ipython3",
   "version": "3.6.1"
  }
 },
 "nbformat": 4,
 "nbformat_minor": 2
}

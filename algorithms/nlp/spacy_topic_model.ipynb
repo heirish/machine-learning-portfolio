{
 "cells": [
  {
   "cell_type": "code",
   "execution_count": 1,
   "metadata": {},
   "outputs": [
    {
     "name": "stdout",
     "output_type": "stream",
     "text": [
      "Solving environment: ...working... done\n",
      "\n",
      "# All requested packages already installed.\n",
      "\n"
     ]
    }
   ],
   "source": [
    "#if alreasy installed, don't need to run following codes\n",
    "#!conda update conda -y\n",
    "#!conda config --add channels conda-forge\n",
    "#!conda install spacy -y\n",
    "#!python -m spacy download en\n",
    "\n",
    "#!conda install scikit-learn -y\n",
    "#!conda install beautifulsoup4 -y\n",
    "#!conda install elasticsearch -y\n",
    "#!pip install pyLDAvis\n",
    "\n",
    "#for error ModuleNotFoundError: No module named 'cycler' when import matplotlib\n",
    "#remember restart this notebook or using importlib.reload\n",
    "#!conda remove matplotlib -y\n",
    "#!conda remove cycler -y\n",
    "#!pip uninstall cycler -y\n",
    "#!pip uninstall matplotlib -y\n",
    "#!pip install cycler\n",
    "#!pip install matplotlib\n",
    "#!pip install memory_profiler"
   ]
  },
  {
   "cell_type": "code",
   "execution_count": 9,
   "metadata": {},
   "outputs": [
    {
     "data": {
      "text/plain": [
       "<module 'Utils.stackoverflowFuncs' from 'E:\\\\my_study_place\\\\python\\\\jupyter\\\\spacy\\\\Utils\\\\stackoverflowFuncs.py'>"
      ]
     },
     "execution_count": 9,
     "metadata": {},
     "output_type": "execute_result"
    }
   ],
   "source": [
    "import warnings\n",
    "warnings.filterwarnings(action='once')\n",
    "warnings.filterwarnings('ignore')\n",
    "from sklearn.model_selection import train_test_split\n",
    "import time \n",
    "from sklearn.feature_extraction.text import CountVectorizer \n",
    "import pandas as pd\n",
    "from sklearn.decomposition import LatentDirichletAllocation\n",
    "from sklearn.model_selection import GridSearchCV\n",
    "\n",
    "import matplotlib.pyplot as plt\n",
    "%matplotlib inline\n",
    "plt.rcParams[\"figure.figsize\"] = [16,9]\n",
    "  \n",
    "from Models import DataLoadModel\n",
    "from Utils import utilTools,utilDataPreprocess,utilLDA, stackoverflowFuncs\n",
    "import importlib\n",
    "importlib.reload(DataLoadModel)\n",
    "importlib.reload(utilTools)\n",
    "importlib.reload(utilLDA)\n",
    "importlib.reload(utilDataPreprocess)\n",
    "importlib.reload(stackoverflowFuncs)"
   ]
  },
  {
   "cell_type": "code",
   "execution_count": 4,
   "metadata": {
    "collapsed": true
   },
   "outputs": [],
   "source": [
    "def loadAndCleanData(force_reload=False, n_jobs=1, force_reload_file=None, force_reload_count=-1):\n",
    "    try:\n",
    "        if force_reload:\n",
    "            raise ValueError(\"will force reload data...\")\n",
    "        start_time = time.time()\n",
    "        idlist, data = stackoverflowFuncs.loadCleanedData()\n",
    "        end_time = time.time()\n",
    "        print(\"load {} preprocessed cleaned records in {} Seconds\\n\".format(len(idlist), end_time - start_time))\n",
    "    except Exception as e:\n",
    "        print(\"load preprocessed data failed, Will retrieve from dataset...\")\n",
    "        start_time = time.time()\n",
    "        data = DataLoadModel.loadStackoverflowFromXML(force_reload_file, stackoverflowFuncs.parseXMLAndFilterFunc, force_reload_count)\n",
    "        #data = DataLoadModel.iterLoadStackoverflowFromES(1000)\n",
    "        end_time = time.time()\n",
    "        print(\"Retrieved {} records in {} Seconds\".format(len(data), end_time - start_time))\n",
    "        \n",
    "        start_time = time.time()\n",
    "        X_train = [row[1] for row in data]\n",
    "        idlist = [row[0] for row in data]\n",
    "        cleaner = utilDataPreprocess.CleanTextTransformer(n_jobs=n_jobs, cleanFunc=stackoverflowFuncs.cleanTextFunc)\n",
    "        data = cleaner.fit_transform(X_train)\n",
    "        try:\n",
    "            stackoverflowFuncs.saveCleanedData(idlist, data)\n",
    "        except Exception as e:\n",
    "            print(\"pickleDump cleaned data Failed\")\n",
    "        end_time = time.time()\n",
    "        print(\"clean data in {} Seconds\".format(end_time - start_time))\n",
    "        \n",
    "    return idlist, data"
   ]
  },
  {
   "cell_type": "code",
   "execution_count": 5,
   "metadata": {
    "collapsed": true
   },
   "outputs": [],
   "source": [
    "def loadChunkedTokenizedData(n_chunks=1):\n",
    "    try:\n",
    "        data=[]\n",
    "        for i in range(n_chunks):\n",
    "            data_tmp = utilTools.pickleLoad(DATAFILE_TOKENIZED+str(i))\n",
    "            data.extend(data_tmp)\n",
    "        return data\n",
    "    except Exception as e:\n",
    "        print(e)\n",
    "        print(\"loadChunkedTokenizedData failed\")\n",
    "        return None\n",
    "    \n",
    "def saveVectorizedData(data, vectorizer):\n",
    "    if idlist is None or data is None or vectorizer is None:\n",
    "         raise ValueError('you must input two valid objects')\n",
    "    try:\n",
    "        utilTools.pickleDump(DATAFILE_VECTORIZED, data)\n",
    "        utilTools.dillDump(VECTORIZERFILE, vectorizer)\n",
    "    except Exception as e:\n",
    "        print(e)\n",
    "        print(\"save failed,dataFile={}, vectorizerFile={}\".format(DATAFILE_VECTORIZED, VECTORIZERFILE))\n",
    "        raise e\n",
    "        \n",
    "def loadVectorizedData():\n",
    "    try:\n",
    "        data = utilTools.pickleLoad(DATAFILE_VECTORIZED)\n",
    "        vectorizer = utilTools.dillLoad(VECTORIZERFILE)\n",
    "    except Exception as e:\n",
    "        print(e)\n",
    "        print(\"load failed, dataFile={}, vectorizerFile={}\".format(DATAFILE_VECTORIZED, VECTORIZERFILE))\n",
    "        raise e\n",
    "        \n",
    "    return data, vectorizer"
   ]
  },
  {
   "cell_type": "code",
   "execution_count": 6,
   "metadata": {
    "collapsed": true
   },
   "outputs": [],
   "source": [
    "#https://stackoverflow.com/questions/11025005/python-sharing-a-dictionary-between-parallel-processes\n",
    "#https://stackoverflow.com/questions/5442910/python-multiprocessing-pool-map-for-multiple-arguments\n",
    "def tokenizeAndVectorizeData(data_in, n_chunks, force_reprocess=False, n_jobs=1, min_df=1, max_df = 1.0, max_features=20000):\n",
    "    #tokenized\n",
    "    try:\n",
    "        if force_reprocess:\n",
    "            raise ValueError(\"will force reprocess, tokenizing data...\")\n",
    "        start_time = time.time()\n",
    "        data_to_vectorize = stackoverflowFuncs.loadChunkedTokenizedData(n_chunks)\n",
    "        tokenFunc = None\n",
    "        end_time = time.time()\n",
    "        print(\"load preprocessed tokenized data in {} Seconds\\n\".format(end_time - start_time))\n",
    "    except Exception as e:\n",
    "        print(\"load preprocessed tokenized data failed, Will reprocess...\")\n",
    "        data_to_vectorize = data_in\n",
    "        tokenFunc = stackoverflowFuncs.tokenInChunks\n",
    "        \n",
    "    start_time = time.time()\n",
    "    vectorizer = CountVectorizer(\n",
    "            # so we can pass it strings\n",
    "            input='content',\n",
    "            # turn off preprocessing of strings to avoid corrupting our keys\n",
    "            lowercase=False,\n",
    "            preprocessor=lambda x: x,\n",
    "            # use our token dictionary\n",
    "            tokenizer=lambda x:x,\n",
    "            min_df = min_df,\n",
    "            max_df = max_df, \n",
    "            max_features = max_features)\n",
    "    vectorize_tf = utilDataPreprocess.VectorizationTransformer(n_jobs, n_chunks, tokenFunc, vectorizer)\n",
    "    tokenized_data, vectorized_data, vectorizer = vectorize_tf.fit_transform(data_to_vectorize)\n",
    "    end_time = time.time()\n",
    "    print(\"tokenized data in {} Seconds\\n\".format(end_time - start_time))\n",
    "    try:\n",
    "        stackoverflowFuncs.saveVectorizedData(vectorized_data, vectorizer)\n",
    "    except Exception as e:\n",
    "        print(\"pickleDump vectorized data Failed\")\n",
    "        \n",
    "    return tokenized_data, vectorized_data, vectorizer"
   ]
  },
  {
   "cell_type": "code",
   "execution_count": 7,
   "metadata": {
    "collapsed": true
   },
   "outputs": [],
   "source": [
    "def vectorizData(data_in, force_reprocess=False, n_chunks=3, n_jobs=1, min_df=1, max_df = 1.0, max_features=20000):\n",
    "    tokens=None\n",
    "    try:\n",
    "        if force_reprocess:\n",
    "            raise ValueError(\"will force reprocess data...\")\n",
    "        start_time = time.time()\n",
    "        data, vectorizer = stackoverflowFuncs.loadVectorizedData()\n",
    "        end_time = time.time()\n",
    "        print(\"load preprocessed vectorized data in {} Seconds\\n\".format(end_time - start_time))\n",
    "    except Exception as e:\n",
    "        print(e)\n",
    "        print(\"load preprocessed vectorized data failed, Will reprocess...\")\n",
    "        tokens, data, vectorizer= tokenizeAndVectorieData(data_in, n_chunks=n_chunks, \n",
    "                                                          n_jobs=n_jobs, min_df=min_df, \n",
    "                                                          max_df=max_df, max_features=max_features)\n",
    "        \n",
    "    return tokens, data, vectorizer"
   ]
  },
  {
   "cell_type": "code",
   "execution_count": null,
   "metadata": {},
   "outputs": [
    {
     "name": "stdout",
     "output_type": "stream",
     "text": [
      "Wall time: 0 ns\n",
      "The memory_profiler extension is already loaded. To reload it, use:\n",
      "  %reload_ext memory_profiler\n",
      "peak memory: 160.13 MiB, increment: 0.00 MiB\n",
      "load preprocessed data failed, Will retrieve from dataset...\n",
      "Parse XML [F:\\stackoverflow.com-Posts\\Posts.xml]Done, total [1001] records!\n",
      "Retrieved 1001 records in 0.26119422912597656 Seconds\n",
      "clean data in 4.421308994293213 Seconds\n",
      "load preprocessed tokenized data failed, Will reprocess...\n",
      "tokenized 1001 records in 7.812265396118164 seconds\n",
      "tokenized data in 8.044643640518188 Seconds\n",
      "\n",
      "\n",
      "\n",
      "Best Model's Params:  {'learning_decay': 0.9, 'n_components': 10}\n",
      "Trained LDA in 292.4108853340149 Seconds, n_topics 10, preplexity 1844.3802085628324, log-likelihood-234959.23081087487\n",
      "\n"
     ]
    },
    {
     "data": {
      "image/png": "[encoded data removed]",
      "text/plain": [
       "<matplotlib.figure.Figure at 0x1bbd263ce10>"
      ]
     },
     "metadata": {},
     "output_type": "display_data"
    },
    {
     "name": "stdout",
     "output_type": "stream",
     "text": [
      "(1001, 10)\n",
      "17\n",
      "[0.025      0.02500171 0.025      0.0250158  0.77498248 0.025\n",
      " 0.025      0.025      0.025      0.025     ]\n"
     ]
    }
   ],
   "source": [
    "%time\n",
    "%load_ext memory_profiler\n",
    "#%mprun\n",
    "%memit\n",
    "\n",
    "if __name__ == \"__main__\":\n",
    "    #Parse XML [F:\\stackoverflow.com-Posts\\Posts.xml]Done, total [1001] records!\n",
    "    #Retrieved 1001 records in 0.1178131103515625 Seconds\n",
    "    #clean data in 2.963881731033325 Seconds\n",
    "    idlist, cleaned_data = loadAndCleanData(force_reload=True, n_jobs=4, \n",
    "                                            force_reload_file=r\"F:\\stackoverflow.com-Posts\\Posts.xml\",\n",
    "                                            force_reload_count=1000)\n",
    "    #idlist, cleaned_data = loadAndCleanData() \n",
    "    #cleaned_data_dict=dict(zip(idlist, cleaned_data))\n",
    "    \n",
    "    #tokenized data in 13.708552837371826 Seconds\n",
    "    #vectorize done in 0.02807474136352539 Seconds\n",
    "    tokenized_data, vecterized_data, vectorizer = tokenizeAndVectorizeData(cleaned_data,\n",
    "                                                                          force_reprocess = True,\n",
    "                                                                          n_chunks=1,\n",
    "                                                                          n_jobs=2,\n",
    "                                                                          min_df=1, #5\n",
    "                                                                          max_df=1.0, #0.6\n",
    "                                                                          max_features=20000)\n",
    "    #tokenized_data, vecterized_data, vectorizer = vectorizData(cleaned_data, n_jobs=4,min_df=1,max_df=0.6,max_features=20000)\n",
    "    #if tokenized_data:\n",
    "    #    tokenized_data_dict=dict(zip(idlist, tokenized_data))\n",
    "    #vecterized_data_dict=dict(zip(idlist, vecterized_data))\n",
    "    print(\"\\n\")\n",
    "    \n",
    "    #n_jobs=-1, Trained LDA in 303.9054253101349 Seconds\n",
    "    #n_jobs=1, Trained LDA in 146.29173946380615 Seconds\n",
    "    start_time = time.time()\n",
    "    model = LatentDirichletAllocation(max_iter=100,\n",
    "                                learning_method='online',\n",
    "                                batch_size=32,\n",
    "                                random_state=123 )\n",
    "    search_params = {'n_components': [10, 20, 30], 'learning_decay': [ .1, .9]}\n",
    "    model = GridSearchCV(model, param_grid=search_params)\n",
    "    model.fit(vecterized_data)\n",
    "    print(\"Best Model's Params: \", model.best_params_)\n",
    "    lda = model.best_estimator_\n",
    "    n_topics = len(lda.components_)\n",
    "    try:\n",
    "        utilTools.dillDump(\"./lda.pkl\", lda)\n",
    "    except:\n",
    "        pass        \n",
    "    feature_names = vectorizer.get_feature_names()\n",
    "    topic_list=utilLDA.get_top_words(lda, feature_names, 20)\n",
    "    train_gamma = lda.transform(vecterized_data)\n",
    "    train_perplexity = lda.perplexity(vecterized_data, train_gamma)\n",
    "    log_likelihood = lda.score(vecterized_data, train_gamma)\n",
    "    end_time = time.time()\n",
    "    print(\"Trained LDA in {} Seconds, n_topics {}, preplexity {}, log-likelihood {}\\n\"\n",
    "          .format(end_time - start_time, n_topics, train_perplexity, log_likelihood))\n",
    "    \n",
    "    #get document_topic_distribution\n",
    "    utilLDA.visDocTopicDist(train_gamma[:10])\n",
    "    print(train_gamma.shape)\n",
    "    print(idlist[0])\n",
    "    print(train_gamma[0])\n",
    "    \n",
    "    #save result to csv\n",
    "    df_topics=pd.DataFrame(topic_list, columns=[\"topic_index\", \"topic_words\"])\n",
    "    df_topics.to_csv(\"stackoverflow_topics.csv\", sep=\",\", encoding=\"utf-8\", index=False)\n",
    "    \n",
    "    df_doc_topics=pd.DataFrame(train_gamma, columns=[\"topic #\"+str(i) for i in range(n_topics)])\n",
    "    df_doc_topics['max_coverage'] = pd.Series(idlist).values\n",
    "    df_doc_topics.to_csv(\"stackoverflow_topic_coverage.csv\", sep=',', encoding='utf-8', index=False)\n",
    "    \n",
    "    #utilLDA.visLDA(lda, vecterized_data, vectorizer, utilTools.getIP(), 8889)\n",
    "    utilLDA.visLDA(lda, vecterized_data, vectorizer, \"127.0.0.1\",8889)"
   ]
  },
  {
   "cell_type": "code",
   "execution_count": null,
   "metadata": {
    "collapsed": true
   },
   "outputs": [],
   "source": []
  }
 ],
 "metadata": {
  "kernelspec": {
   "display_name": "Python 3",
   "language": "python",
   "name": "python3"
  },
  "language_info": {
   "codemirror_mode": {
    "name": "ipython",
    "version": 3
   },
   "file_extension": ".py",
   "mimetype": "text/x-python",
   "name": "python",
   "nbconvert_exporter": "python",
   "pygments_lexer": "ipython3",
   "version": "3.6.1"
  }
 },
 "nbformat": 4,
 "nbformat_minor": 2
}

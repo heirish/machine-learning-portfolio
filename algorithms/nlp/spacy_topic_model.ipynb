{
 "cells": [
  {
   "cell_type": "code",
   "execution_count": 10,
   "metadata": {},
   "outputs": [
    {
     "name": "stdout",
     "output_type": "stream",
     "text": [
      "Requirement already satisfied: memory_profiler in d:\\program_files\\anaconda3\\lib\\site-packages\n",
      "Requirement already satisfied: psutil in d:\\program_files\\anaconda3\\lib\\site-packages (from memory_profiler)\n"
     ]
    },
    {
     "name": "stderr",
     "output_type": "stream",
     "text": [
      "You are using pip version 9.0.1, however version 9.0.2 is available.\n",
      "You should consider upgrading via the 'python -m pip install --upgrade pip' command.\n"
     ]
    }
   ],
   "source": [
    "#if alreasy installed, don't need to run following codes\n",
    "#!conda update conda\n",
    "#!conda config --add channels conda-forge\n",
    "#!conda install spacy -y\n",
    "#!python -m spacy download en\n",
    "\n",
    "#!conda install scikit-learn -y\n",
    "#!conda install beautifulsoup4 -y\n",
    "#!conda install elasticsearch -y\n",
    "#!pip install pyLDAvis\n",
    "\n",
    "#for error ModuleNotFoundError: No module named 'cycler' when import matplotlib\n",
    "#remember restart this notebook or using importlib.reload\n",
    "#!conda remove matplotlib -y\n",
    "#!conda remove cycler -y\n",
    "#!pip uninstall cycler -y\n",
    "#!pip uninstall matplotlib -y\n",
    "#!pip install cycler\n",
    "#!pip install matplotlib\n",
    "!pip install memory_profiler"
   ]
  },
  {
   "cell_type": "code",
   "execution_count": 11,
   "metadata": {},
   "outputs": [],
   "source": [
    "from sklearn.model_selection import train_test_split\n",
    "import time\n",
    "\n",
    "import matplotlib.pyplot as plt\n",
    "%matplotlib inline\n",
    "plt.rcParams[\"figure.figsize\"] = [16,9]\n",
    "  \n",
    "from Models import DataLoadModel\n",
    "from Utils import utilTools,utilDataPreprocess,utilLDA\n",
    "import importlib\n",
    "importlib.reload(DataLoadModel)\n",
    "importlib.reload(utilTools)\n",
    "importlib.reload(utilLDA)\n",
    "importlib.reload(utilDataPreprocess)\n",
    "\n",
    "IDFILE=\"./idlist.pkl\"\n",
    "DATAFILE=\"./preprocessed_data.pkl\"\n",
    "VECTORIZERFILE = \"./vectorizer.pkl\""
   ]
  },
  {
   "cell_type": "code",
   "execution_count": 12,
   "metadata": {
    "collapsed": true
   },
   "outputs": [],
   "source": [
    "def savePreprocessedData(idlist, data, vectorizer):\n",
    "    if idlist is None or data is None or vectorizer is None:\n",
    "         raise ValueError('you must input three valid objects')\n",
    "    try:\n",
    "        utilTools.pickleDump(IDFILE, idlist)\n",
    "        utilTools.pickleDump(DATAFILE, data)\n",
    "        utilTools.pickleDump(VECTORIZERFILE, vectorizer)\n",
    "    except Exception as e:\n",
    "        print(e)\n",
    "        print(\"save failed, idfile={}, dataFile={}, vectorizerFile={}\".format(IDFILE, DATAFILE, VECTORIZERFILE))\n",
    "        raise e"
   ]
  },
  {
   "cell_type": "code",
   "execution_count": 13,
   "metadata": {
    "collapsed": true
   },
   "outputs": [],
   "source": [
    "def loadPreprocessedData():\n",
    "    try:\n",
    "        idlist = utilTools.pickleLoad(IDFILE)\n",
    "        data = utilTools.pickleLoad(DATAFILE)\n",
    "        vetorizer = utilTools.pickleLoad(VECTORIZERFILE)\n",
    "    except Exception as e:\n",
    "        print(e)\n",
    "        print(\"save failed, idfile={}, dataFile={}, vectorizerFile={}\".format(IDFILE, DATAFILE, VECTORIZERFILE))\n",
    "        raise e\n",
    "        \n",
    "    return idlist, data, vectorizer   "
   ]
  },
  {
   "cell_type": "code",
   "execution_count": 14,
   "metadata": {},
   "outputs": [
    {
     "name": "stdout",
     "output_type": "stream",
     "text": [
      "load 1001 preprocessed records in 0.004012346267700195 Seconds\n",
      "Topic #0:\n",
      "code list java people good php language information variable text interface type byte lot linux particular character file time problem\n",
      "Topic #1:\n",
      "sub invalid xhtml spec piece paragraph session creation note clean tag basic model mark welcome point behavior element valid year\n",
      "Topic #2:\n",
      "image content ui module route layout stream recommendation disk scheme cost microsoft reporting store coding controller pixel challenge black designer\n",
      "Topic #3:\n",
      "class library process thread way c++ document application true framework null .net memory code exception port certain new main type\n",
      "Topic #4:\n",
      "constructor unix failure valid workaround execution safe guess anonymous guideline mock space simple shell popular like worth catch log agnostic\n",
      "Topic #5:\n",
      "item location array multiple subversion virtual thank apache box john git queue limit tortoisesvn count reset logical addition separate control\n",
      "Topic #6:\n",
      "page button input html form search db logic space regular field expression implementation example mac previous info markup argument stackoverflow\n",
      "Topic #7:\n",
      "key icon size resource comment collection support namespace dynamic foreign order dictionary primary sense flex word chart clause special adobe\n",
      "Topic #8:\n",
      "version test event time machine number script program way function question build answer case parameter different color solution change stuff\n",
      "Topic #9:\n",
      "difference index binary state import copy procedure account ability entry look computer mark ftp price guy filter mysql target deal\n",
      "Topic #10:\n",
      "window visual studio property company edit line suggestion experience developer directory software good issue gui bit source time similar network\n",
      "Topic #11:\n",
      "server database table datum sql column second way row query connection client report field change design mysql data able tool\n",
      "Topic #12:\n",
      "value example custom day group hour specific long month time current job loop operator step cpu pointer unit guid efficient\n",
      "Topic #13:\n",
      "file user web application way site server javascript address asp.net problem browser able page solution setting window local app xml\n",
      "Topic #14:\n",
      "free algorithm node left interested tree layer ubuntu context clear duplicate graph fogbugz avail overhead effective modification efficient huge compile\n",
      "Topic #15:\n",
      "url fine sharepoint business authentication ajax desktop https ssl tutorial password mail rest worth trouble username vmware wcf primitive disabled\n",
      "Topic #16:\n",
      "new string method object service public code function way update int error result type instance var static private return date\n",
      "Topic #17:\n",
      "component textbox tab bug height core microsoft mouse runtime minute display firebug today pc repository ram border lightweight instrumentation sync\n",
      "Topic #18:\n",
      "project control tool code form python bar access error post stack platform dll question solution useful real simple article advice\n",
      "Topic #19:\n",
      "workflow callback weight profiler equal helper filename prompt breakpoint magic age thinking ms common similar batch team safari communication ruby\n",
      "\n",
      "Trained LDA in 14.128572463989258 Seconds\n"
     ]
    },
    {
     "data": {
      "image/png": "[encoded data removed]",
      "text/plain": [
       "<matplotlib.figure.Figure at 0x2a5a686fbe0>"
      ]
     },
     "metadata": {},
     "output_type": "display_data"
    },
    {
     "name": "stdout",
     "output_type": "stream",
     "text": [
      "(10, 20)\n",
      "4\n",
      "[0.00294118 0.00294118 0.00294118 0.00294118 0.00294118 0.00294118\n",
      " 0.00294118 0.00294118 0.1248196  0.00294118 0.00294118 0.00294118\n",
      " 0.00294118 0.00294118 0.00294118 0.00294118 0.00294118 0.00294118\n",
      " 0.82223922 0.00294118]\n",
      "Wall time: 0 ns\n",
      "peak memory: 273.45 MiB, increment: 0.00 MiB\n"
     ]
    }
   ],
   "source": [
    "%time\n",
    "%load_ext memory_profiler\n",
    "#%mprun\n",
    "%memit\n",
    "\n",
    "if __name__ == \"__main__\":\n",
    "    \n",
    "    try:\n",
    "        start_time = time.time()\n",
    "        idlist, X_train_preprocess, vectorizer = loadPreprocessedData()\n",
    "        end_time = time.time()\n",
    "        print(\"load {} preprocessed records in {} Seconds\".format(len(idlist), end_time - start_time))\n",
    "    except Exception as e:\n",
    "        print(\"load preprocessed data failed, Will retrieve from dataset...\")\n",
    "        start_time = time.time()\n",
    "        #data = DataLoadModel.iterLoadStackoverflowFromES(100)\n",
    "        data = DataLoadModel.loadStackoverflowFromXML(r\"F:\\stackoverflow.com-Posts\\Posts.xml\", 1000) #much faster\n",
    "        end_time = time.time()\n",
    "        print(\"Retrieved {} records in {} Seconds\".format(len(data), end_time - start_time))\n",
    "        #10001 records in 246.03912162780762 Seconds\n",
    "    \n",
    "        #print(data[1])\n",
    "        X_train = [row[1] for row in data]\n",
    "        idlist = [row[0] for row in data]\n",
    "        #print(X_train[1])\n",
    "        #Preprocess done in 420.02149057388306 Seconds, n_jobs=1, 10000 records\n",
    "        #cpu_cores = multiprocessing.cpu_count()\n",
    "        X_train_preprocess, vectorizer = utilDataPreprocess.preProcessData(X_train, 8, 1000)\n",
    "        #save X_train_preprocess and vectorizer for multi later training\n",
    "        try:\n",
    "            savePreprocessedData(idlist, X_train_preprocess, vectorizer)\n",
    "        except Exception as e:\n",
    "            print(\"pickleDump Failed\")\n",
    "            pass \n",
    "    \n",
    "    start_time = time.time()\n",
    "    lda = utilLDA.trainLDA(X_train_preprocess, n_topics=20)\n",
    "    feature_names = vectorizer.get_feature_names()\n",
    "    utilLDA.print_top_words(lda, feature_names, 20)\n",
    "    end_time = time.time()\n",
    "    print(\"Trained LDA in {} Seconds\".format(end_time - start_time))\n",
    "    \n",
    "    #get document_topic_distribution\n",
    "    doc_topic_distr = lda.transform(X_train_preprocess[:10])\n",
    "    utilLDA.visDocTopicDist(doc_topic_distr)\n",
    "    print(doc_topic_distr.shape)\n",
    "    print(idlist[0])\n",
    "    print(doc_topic_distr[0])\n",
    "    \n",
    "    #utilLDA.visLDA(lda, X_train_preprocess, vectorizer, utilTools.getIP(), 8889)\n",
    "    #utilLDA.visLDA(lda, X_train_preprocess, vectorizer, \"127.0.0.1\",8889)"
   ]
  },
  {
   "cell_type": "code",
   "execution_count": null,
   "metadata": {
    "collapsed": true
   },
   "outputs": [],
   "source": []
  }
 ],
 "metadata": {
  "kernelspec": {
   "display_name": "Python 3",
   "language": "python",
   "name": "python3"
  },
  "language_info": {
   "codemirror_mode": {
    "name": "ipython",
    "version": 3
   },
   "file_extension": ".py",
   "mimetype": "text/x-python",
   "name": "python",
   "nbconvert_exporter": "python",
   "pygments_lexer": "ipython3",
   "version": "3.6.1"
  }
 },
 "nbformat": 4,
 "nbformat_minor": 2
}

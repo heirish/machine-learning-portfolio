{
 "cells": [
  {
   "cell_type": "code",
   "execution_count": 38,
   "metadata": {},
   "outputs": [
    {
     "data": {
      "text/plain": [
       "<module 'ElasticSearchClass' from 'E:\\\\my_study_place\\\\python\\\\jupyter\\\\spacy\\\\ElasticSearchClass.py'>"
      ]
     },
     "execution_count": 38,
     "metadata": {},
     "output_type": "execute_result"
    }
   ],
   "source": [
    "import spacy\n",
    "\n",
    "from sklearn.datasets import fetch_20newsgroups\n",
    "from sklearn.model_selection import train_test_split\n",
    "from sklearn.pipeline import Pipeline\n",
    "from sklearn.base import TransformerMixin \n",
    "from sklearn.feature_extraction.stop_words import ENGLISH_STOP_WORDS as stopwords \n",
    "from sklearn.cluster import DBSCAN\n",
    "from sklearn.feature_extraction.text import TfidfVectorizer\n",
    "from sklearn.feature_extraction.text import CountVectorizer \n",
    "import hdbscan\n",
    "from sklearn.decomposition import TruncatedSVD\n",
    "from sklearn.preprocessing import Normalizer\n",
    "\n",
    "import string\n",
    "import time\n",
    "import re\n",
    "import matplotlib.pyplot as plt\n",
    "%matplotlib inline\n",
    "plt.rcParams[\"figure.figsize\"] = [16,9]\n",
    "from bs4 import BeautifulSoup\n",
    "import numpy as np\n",
    "\n",
    "import ElasticSearchClass\n",
    "import importlib\n",
    "importlib.reload(ElasticSearchClass)"
   ]
  },
  {
   "cell_type": "code",
   "execution_count": 115,
   "metadata": {
    "collapsed": true
   },
   "outputs": [],
   "source": [
    "def load20NewsGroups():\n",
    "    # #############################################################################\n",
    "    # Load some categories from the training set\n",
    "    categories = [\n",
    "        'alt.atheism',\n",
    "        'talk.religion.misc',\n",
    "        'comp.graphics',\n",
    "        'sci.space',\n",
    "     ]\n",
    "    dataset = fetch_20newsgroups(subset='all', categories=categories,\n",
    "                             shuffle=True, random_state=42)\n",
    "    print(\"%d documents\" % len(dataset.data))\n",
    "    print(\"%d categories\" % len(dataset.target_names))\n",
    "    return dataset.data"
   ]
  },
  {
   "cell_type": "code",
   "execution_count": 2,
   "metadata": {},
   "outputs": [
    {
     "name": "stdout",
     "output_type": "stream",
     "text": [
      "<generator object scan at 0x000002DC40771620>\n",
      "Retrieved 1092 records in 0.630699634552002 Seconds\n"
     ]
    }
   ],
   "source": [
    "def loadStackoverflowFromES():\n",
    "    esUtil = ElasticSearchClass.ElasticSearchClass(\"192.168.18.187\", 9201)\n",
    "    dsl = '''\n",
    "    {\n",
    "    \"_source\":[\"title\", \"body\"],\n",
    "    \"query\":{\n",
    "        \"bool\":{\n",
    "            \"must\":{\n",
    "                \"match\":{\"posttypeid\":1}}\n",
    "            }\n",
    "        },\n",
    "    \"size\":1\n",
    "    }\n",
    "    '''\n",
    "    res = esUtil.search(indexName=\"stackoverflow\", body=dsl)\n",
    "    for doc in res['hits']['hits']:\n",
    "         print(\"%s) %s\" % (doc['_id'], doc['_source']))\n",
    "    \n",
    "def iterLoadStackoverflowFromES():\n",
    "    esUtil = ElasticSearchClass.ElasticSearchClass(\"192.168.18.187\", 9201)\n",
    "    dsl = '''\n",
    "    {\n",
    "    \"_source\":[\"body\"],\n",
    "    \"query\":{\n",
    "        \"bool\":{\n",
    "            \"must\":{\n",
    "                \"match\":{\"posttypeid\":1}}\n",
    "            }\n",
    "        }\n",
    "    }\n",
    "    '''\n",
    "    res = esUtil.scrollSearch(indexName=\"stackoverflow\", body=dsl)\n",
    "    print(res)\n",
    "    count = 0\n",
    "    data = []\n",
    "    for doc in res:\n",
    "        if count > 10000:\n",
    "            break\n",
    "        count += 1\n",
    "        data.append([doc['_id'], doc['_source']['body']])\n",
    "        #print(doc['_id'], doc['_source']['body'])\n",
    "    return data\n",
    "            \n",
    "#loadStackoverflowFromES()\n",
    "start_time = time.time()\n",
    "data = iterLoadStackoverflowFromES()\n",
    "end_time = time.time()\n",
    "print(\"Retrieved {} records in {} Seconds\".format(len(data), end_time - start_time))\n",
    "#Retrieved 101 records in 1.3270199298858643 Seconds\n",
    "#10001 records in 246.03912162780762 Seconds"
   ]
  },
  {
   "cell_type": "code",
   "execution_count": 17,
   "metadata": {},
   "outputs": [],
   "source": [
    "###########create data clearner\n",
    "\n",
    "#Custom transformer using spaCy \n",
    "class CleanTextTransformer(TransformerMixin):\n",
    "    def transform(self, X, **transform_params):\n",
    "        return [cleanText(text) for text in X]\n",
    "    def fit(self, X, y=None, **fit_params):\n",
    "        return self\n",
    "    def get_params(self, deep=True):\n",
    "        return {}\n",
    "\n",
    "# A custom function to clean the text before sending it into the vectorizer\n",
    "def cleanText(text):\n",
    "   #some data will raise NotImplementedError: subclasses of ParserBase must override error()\n",
    "    try:\n",
    "        bs = BeautifulSoup(text, \"html.parser\")\n",
    "        #code = [s.extract() for s in bs('code')]\n",
    "        # replace other HTML symbols\n",
    "        text = bs.get_text()\n",
    "    except Exception as e:\n",
    "        #print(e)\n",
    "        pass\n",
    "    text = text.lower()\n",
    "    # get rid of newlines\n",
    "    text = text.strip().replace(\"\\n\", \" \").replace(\"\\r\", \" \")\n",
    "    # replace @xxxx with @mentions\n",
    "    mentionFinder = re.compile(r\"@[a-z0-9_]{1,15}\", re.IGNORECASE)\n",
    "    text = mentionFinder.sub(\"@mention\", text)\n",
    "    # here we don't need @mention\n",
    "    text = re.sub(\"@mention\", '', text).strip()\n",
    "    # delete numbers\n",
    "    text = re.sub(r'\\w*\\d\\w*', '', text).strip()\n",
    "    return text"
   ]
  },
  {
   "cell_type": "code",
   "execution_count": 25,
   "metadata": {
    "collapsed": true
   },
   "outputs": [],
   "source": [
    "############create tokenizer\n",
    "\n",
    "#Create spacy tokenizer that parses a sentence and generates tokens\n",
    "#these can also be replaced by word vectors \n",
    "# List of symbols we don't care about\n",
    "punctuations = \" \".join(string.punctuation).split(\" \") + [\"-----\", \"---\", \"...\", \"“\", \"”\", \"'ve\", \"--\", \"//\", \"div\"]\n",
    "parser = spacy.load('en')\n",
    "def tokenizeText(sentence):\n",
    "    tokens = parser(sentence)\n",
    "    #only keep nouns\n",
    "    tokens = [tok for tok in tokens if (tok.tag_ in (\"NN\", \"NNS\", \"NNP\", \"NNPS\", \"JJ\"))]\n",
    "    tokens = [tok.lemma_.lower().strip() if tok.lemma_ != \"-PRON-\" else tok.lower_ for tok in tokens]\n",
    "    tokens = [tok for tok in tokens if (tok not in stopwords and tok not in punctuations)]\n",
    "    #remove tokens lenth is 1\n",
    "    tokens = [tok for tok in tokens if (len(tok)>1)]\n",
    "    # remove large strings of whitespace\n",
    "    while \"\" in tokens:\n",
    "        tokens.remove(\"\")\n",
    "    while \" \" in tokens:\n",
    "        tokens.remove(\" \")\n",
    "    while \"\\n\" in tokens:\n",
    "        tokens.remove(\"\\n\")\n",
    "    while \"\\n\\n\" in tokens:\n",
    "        tokens.remove(\"\\n\\n\")\n",
    "    return tokens"
   ]
  },
  {
   "cell_type": "code",
   "execution_count": 26,
   "metadata": {
    "collapsed": true
   },
   "outputs": [],
   "source": [
    "##########Create preprocess pipline and run\n",
    "def preProcessData(X_train, max_features=None):\n",
    "    #create vectorizer object to generate feature vectors, we will use custom spacy’s tokenizer\n",
    "    #vectorizer = TfidfVectorizer(tokenizer = tokenizeText)\n",
    "    #svd = TruncatedSVD(2)\n",
    "    #normalizer = Normalizer(copy=False)\n",
    "    #removed any word that appeared in more than 70% of documents.\n",
    "    #removed any word that appeared in less than 5 documents\n",
    "    vectorizer = CountVectorizer(tokenizer = tokenizeText, min_df=5, max_df = 0.6, max_features=max_features)\n",
    "    start_time = time.time()\n",
    "    pipe_preprocess = Pipeline([(\"cleaner\", CleanTextTransformer()),\n",
    "                 (\"vectorizer\", vectorizer)])\n",
    "    X_train_preprocess = pipe_preprocess.fit_transform(X_train)\n",
    "    end_time = time.time()\n",
    "    print(\"Preprocess done in {} Seconds\".format(end_time - start_time))\n",
    "    return X_train_preprocess, vectorizer"
   ]
  },
  {
   "cell_type": "code",
   "execution_count": 116,
   "metadata": {},
   "outputs": [
    {
     "name": "stdout",
     "output_type": "stream",
     "text": [
      "3387 documents\n",
      "4 categories\n",
      "Preprocess done in 237.4716272354126 Seconds\n"
     ]
    }
   ],
   "source": [
    "X_train = load20NewsGroups()\n",
    "X_train_preprocess, vectorizer = preProcessData(X_train, 1000)"
   ]
  },
  {
   "cell_type": "code",
   "execution_count": 27,
   "metadata": {},
   "outputs": [
    {
     "name": "stdout",
     "output_type": "stream",
     "text": [
      "<p>What is the \"purist\" or \"correct\" way to access an object's properties from within an object method that is not a getter/setter method?</p>\n",
      "\n",
      "<p>I know that from outside of the object you should use a getter/setter, but from within would you just do:</p>\n",
      "\n",
      "<p>Java:</p>\n",
      "\n",
      "<pre><code>String property = this.property;\n",
      "</code></pre>\n",
      "\n",
      "<p>PHP:</p>\n",
      "\n",
      "<pre><code>$property = $this-&gt;property;\n",
      "</code></pre>\n",
      "\n",
      "<p>or would you do:</p>\n",
      "\n",
      "<p>Java:</p>\n",
      "\n",
      "<pre><code>String property = this.getProperty();\n",
      "</code></pre>\n",
      "\n",
      "<p>PHP:</p>\n",
      "\n",
      "<pre><code>$property = $this-&gt;getProperty();\n",
      "</code></pre>\n",
      "\n",
      "<p>Forgive me if my Java is a little off, it's been a year since I programmed in Java...</p>\n",
      "\n",
      "<p><strong>EDIT:</strong></p>\n",
      "\n",
      "<p>It seems people are assuming I am talking about private or protected variables/properties only. When I learned OO I was taught to use getters/setters for every single property even if it was public (and actually I was told never to make any variable/property public). So, I may be starting off from a false assumption from the get go. It appears that people answering this question are maybe saying that you should have public properties and that those don't need getters and setters, which goes against what I was taught, and what I was talking about, although maybe that needs to be discussed as well. That's probably a good topic for a different question though...</p>\n",
      "\n",
      "Preprocess done in 29.358062028884888 Seconds\n",
      "  (0, 562)\t1\n",
      "  (0, 218)\t1\n",
      "  (0, 307)\t1\n",
      "  (0, 141)\t1\n",
      "  (0, 150)\t1\n",
      "  (0, 716)\t1\n",
      "  (0, 85)\t1\n",
      "  (0, 785)\t1\n",
      "  (0, 12)\t1\n",
      "  (0, 98)\t1\n",
      "  (0, 97)\t1\n",
      "  (0, 408)\t2\n",
      "  (0, 696)\t2\n",
      "  (0, 234)\t6\n",
      "  (0, 773)\t1\n",
      "  (0, 823)\t2\n",
      "  (0, 216)\t4\n",
      "  (0, 813)\t1\n",
      "  (0, 484)\t2\n",
      "  (0, 48)\t1\n",
      "  (0, 812)\t3\n",
      "  (0, 612)\t1\n",
      "  (0, 560)\t1\n",
      "  (0, 818)\t1\n",
      "  (0, 875)\t5\n",
      "  :\t:\n",
      "  (0, 896)\t1\n",
      "  (0, 752)\t1\n",
      "  (1, 831)\t1\n",
      "  (1, 340)\t1\n",
      "  (1, 655)\t2\n",
      "  (1, 44)\t1\n",
      "  (1, 292)\t1\n",
      "  (1, 650)\t3\n",
      "  (1, 740)\t1\n",
      "  (1, 871)\t2\n",
      "  (1, 629)\t1\n",
      "  (1, 588)\t2\n",
      "  (1, 247)\t1\n",
      "  (1, 913)\t1\n",
      "  (1, 463)\t1\n",
      "  (1, 424)\t2\n",
      "  (1, 596)\t2\n",
      "  (1, 731)\t4\n",
      "  (1, 337)\t4\n",
      "  (1, 507)\t2\n",
      "  (1, 646)\t9\n",
      "  (1, 547)\t3\n",
      "  (1, 167)\t1\n",
      "  (1, 218)\t1\n",
      "  (1, 887)\t1\n"
     ]
    }
   ],
   "source": [
    "#print(data[1])\n",
    "X_train = [row[1] for row in data]\n",
    "print(X_train[1])\n",
    "#print(cleanText(X_train[1]))\n",
    "X_train_preprocess, vectorizer = preProcessData(X_train, 1000)\n",
    "print(X_train_preprocess[:2])"
   ]
  },
  {
   "cell_type": "code",
   "execution_count": 28,
   "metadata": {},
   "outputs": [
    {
     "data": {
      "text/plain": [
       "LatentDirichletAllocation(batch_size=20, doc_topic_prior=None,\n",
       "             evaluate_every=-1, learning_decay=0.7,\n",
       "             learning_method='online', learning_offset=10.0,\n",
       "             max_doc_update_iter=100, max_iter=100, mean_change_tol=0.001,\n",
       "             n_jobs=1, n_topics=10, perp_tol=0.1, random_state=125,\n",
       "             topic_word_prior=None, total_samples=1000000.0, verbose=0)"
      ]
     },
     "execution_count": 28,
     "metadata": {},
     "output_type": "execute_result"
    }
   ],
   "source": [
    "from sklearn.decomposition import LatentDirichletAllocation\n",
    "n_topics = 10\n",
    "lda = LatentDirichletAllocation(n_topics=n_topics, max_iter=100,\n",
    "                                learning_method='online',\n",
    "                                batch_size=20,\n",
    "                                random_state=125)\n",
    "lda.fit(X_train_preprocess)"
   ]
  },
  {
   "cell_type": "code",
   "execution_count": 29,
   "metadata": {
    "collapsed": true
   },
   "outputs": [],
   "source": [
    "def print_top_words(model, feature_names, n_top_words):\n",
    "    for topic_idx, topic in enumerate(model.components_):\n",
    "        print(\"Topic #%d:\" % topic_idx)\n",
    "        print(\" \".join([feature_names[i]\n",
    "                        for i in topic.argsort()[:-n_top_words - 1:-1]]))\n",
    "    print()"
   ]
  },
  {
   "cell_type": "code",
   "execution_count": 30,
   "metadata": {},
   "outputs": [
    {
     "name": "stdout",
     "output_type": "stream",
     "text": [
      "Topic #0:\n",
      "class object method type public code property java new key php value way document python variable interface little static private\n",
      "Topic #1:\n",
      "thread site possible programming language experience email html developer .net good unit google advice answer response general word map apache\n",
      "Topic #2:\n",
      "table server database sql datum tool query studio visual column way row project software company linux mysql development new issue\n",
      "Topic #3:\n",
      "code number int bit time good people question byte free long kind output lot thing loop easy sort reference memory\n",
      "Topic #4:\n",
      "page library current standard array color level content api code algorithm new value point correct port tag template problem implementation\n",
      "Topic #5:\n",
      "string example list way case function true solution answer result item location character node end group search select expression statement\n",
      "Topic #6:\n",
      "function javascript xml var parameter new linq day browser firefox date work return bar framework html flash hour space tab\n",
      "Topic #7:\n",
      "application user web window server service asp.net file time way client app able machine site setting problem field work code\n",
      "Topic #8:\n",
      "file control test project version line text window way different program time source command problem script main error able build\n",
      "Topic #9:\n",
      "event button change update page way user form image process value null input simple gui second question component problem example\n",
      "\n"
     ]
    }
   ],
   "source": [
    "feature_names = vectorizer.get_feature_names()\n",
    "print_top_words(lda, feature_names, 20)"
   ]
  },
  {
   "cell_type": "code",
   "execution_count": 50,
   "metadata": {},
   "outputs": [],
   "source": [
    "##visualize doc_topic_distr\n",
    "#https://de.dariah.eu/tatom/topic_model_visualization.html\n",
    "def visDocTopicDist(doctopic):\n",
    "    #N documents, K topics\n",
    "    N, K = doctopic.shape\n",
    "    ind = np.arange(N)\n",
    "    width = 0.5\n",
    "    height_cumulative = np.zeros(N)\n",
    "    plots=[]\n",
    "    for k in range(K):\n",
    "        color = plt.cm.coolwarm(k/K, 1)\n",
    "        if k == 0:\n",
    "            p = plt.bar(ind, doctopic[:, k], width, color=color)\n",
    "        else:\n",
    "            p = plt.bar(ind, doctopic[:, k], width, bottom=height_cumulative, color=color)\n",
    "        height_cumulative += doctopic[:, k]\n",
    "        plots.append(p)\n",
    "    plt.ylim(0,1)\n",
    "    plt.ylabel('Topics')\n",
    "    plt.title('Topics in docs')\n",
    "    plt.xticks(ind+width/2, [n for n in range(N)])\n",
    "    plt.yticks(np.arange(0,1,10))\n",
    "    topic_labels=['Topic #{}'.format(k) for k in range(K)]\n",
    "    plt.legend([p[0] for p in plots], topic_labels)\n",
    "    plt.show()"
   ]
  },
  {
   "cell_type": "code",
   "execution_count": 51,
   "metadata": {},
   "outputs": [
    {
     "data": {
      "image/png": "[encoded data removed]",
      "text/plain": [
       "<matplotlib.figure.Figure at 0x2dc46a6ac50>"
      ]
     },
     "metadata": {},
     "output_type": "display_data"
    },
    {
     "name": "stdout",
     "output_type": "stream",
     "text": [
      "(10, 10)\n",
      "['19', '<p>Solutions are welcome in any language. :-) I\\'m looking for the fastest way to obtain the value of π, as a personal challenge. More specifically I\\'m using ways that don\\'t involve using <code>#define</code>d constants like <code>M_PI</code>, or hard-coding the number in.</p>\\n\\n<p>The program below tests the various ways I know of. The inline assembly version is, in theory, the fastest option, though clearly not portable; I\\'ve included it as a baseline to compare the other versions against. In my tests, with built-ins, the <code>4 * atan(1)</code> version is fastest on GCC 4.2, because it auto-folds the <code>atan(1)</code> into a constant. With <code>-fno-builtin</code> specified, the <code>atan2(0, -1)</code> version is fastest.</p>\\n\\n<p>Here\\'s the main testing program (<code>pitimes.c</code>):</p>\\n\\n<pre class=\"lang-c prettyprint-override\"><code>#include &lt;math.h&gt;\\n#include &lt;stdio.h&gt;\\n#include &lt;time.h&gt;\\n\\n#define ITERS 10000000\\n#define TESTWITH(x) {                                                       \\\\\\n    diff = 0.0;                                                             \\\\\\n    time1 = clock();                                                        \\\\\\n    for (i = 0; i &lt; ITERS; ++i)                                             \\\\\\n        diff += (x) - M_PI;                                                 \\\\\\n    time2 = clock();                                                        \\\\\\n    printf(\"%s\\\\t=&gt; %e, time =&gt; %f\\\\n\", #x, diff, diffclock(time2, time1));   \\\\\\n}\\n\\nstatic inline double\\ndiffclock(clock_t time1, clock_t time0)\\n{\\n    return (double) (time1 - time0) / CLOCKS_PER_SEC;\\n}\\n\\nint\\nmain()\\n{\\n    int i;\\n    clock_t time1, time2;\\n    double diff;\\n\\n    /* Warmup. The atan2 case catches GCC\\'s atan folding (which would\\n     * optimise the ``4 * atan(1) - M_PI\\'\\' to a no-op), if -fno-builtin\\n     * is not used. */\\n    TESTWITH(4 * atan(1))\\n    TESTWITH(4 * atan2(1, 1))\\n\\n#if defined(__GNUC__) &amp;&amp; (defined(__i386__) || defined(__amd64__))\\n    extern double fldpi();\\n    TESTWITH(fldpi())\\n#endif\\n\\n    /* Actual tests start here. */\\n    TESTWITH(atan2(0, -1))\\n    TESTWITH(acos(-1))\\n    TESTWITH(2 * asin(1))\\n    TESTWITH(4 * atan2(1, 1))\\n    TESTWITH(4 * atan(1))\\n\\n    return 0;\\n}\\n</code></pre>\\n\\n<p>And the inline assembly stuff (<code>fldpi.c</code>), noting that it will only work for x86 and x64 systems:</p>\\n\\n<pre class=\"lang-c prettyprint-override\"><code>double\\nfldpi()\\n{\\n    double pi;\\n    asm(\"fldpi\" : \"=t\" (pi));\\n    return pi;\\n}\\n</code></pre>\\n\\n<p>And a build script that builds all the configurations I\\'m testing (<code>build.sh</code>):</p>\\n\\n<pre><code>#!/bin/sh\\ngcc -O3 -Wall -c           -m32 -o fldpi-32.o fldpi.c\\ngcc -O3 -Wall -c           -m64 -o fldpi-64.o fldpi.c\\n\\ngcc -O3 -Wall -ffast-math  -m32 -o pitimes1-32 pitimes.c fldpi-32.o\\ngcc -O3 -Wall              -m32 -o pitimes2-32 pitimes.c fldpi-32.o -lm\\ngcc -O3 -Wall -fno-builtin -m32 -o pitimes3-32 pitimes.c fldpi-32.o -lm\\ngcc -O3 -Wall -ffast-math  -m64 -o pitimes1-64 pitimes.c fldpi-64.o -lm\\ngcc -O3 -Wall              -m64 -o pitimes2-64 pitimes.c fldpi-64.o -lm\\ngcc -O3 -Wall -fno-builtin -m64 -o pitimes3-64 pitimes.c fldpi-64.o -lm\\n</code></pre>\\n\\n<p>Apart from testing between various compiler flags (I\\'ve compared 32-bit against 64-bit too, because the optimisations are different), I\\'ve also tried switching the order of the tests around. The <code>atan2(0, -1)</code> version still comes out top every time, though.</p>\\n']\n",
      "[0.04690182 0.00153857 0.00153852 0.06324253 0.00153855 0.0015386\n",
      " 0.00153856 0.00153852 0.87908572 0.00153861]\n"
     ]
    }
   ],
   "source": [
    "#get document_topic_distribution\n",
    "doc_topic_distr = lda.transform(X_train_preprocess[:10])\n",
    "visDocTopicDist(doc_topic_distr)\n",
    "print(doc_topic_distr.shape)\n",
    "print(data[0])\n",
    "print(doc_topic_distr[0])"
   ]
  },
  {
   "cell_type": "code",
   "execution_count": null,
   "metadata": {},
   "outputs": [
    {
     "name": "stderr",
     "output_type": "stream",
     "text": [
      "D:\\Program_Files\\Anaconda3\\lib\\site-packages\\pyLDAvis\\_prepare.py:387: DeprecationWarning: \n",
      ".ix is deprecated. Please use\n",
      ".loc for label based indexing or\n",
      ".iloc for positional indexing\n",
      "\n",
      "See the documentation here:\n",
      "http://pandas.pydata.org/pandas-docs/stable/indexing.html#deprecate_ix\n",
      "  topic_term_dists = topic_term_dists.ix[topic_order]\n"
     ]
    },
    {
     "name": "stdout",
     "output_type": "stream",
     "text": [
      "\n",
      "Note: if you're in the IPython notebook, pyLDAvis.show() is not the best command\n",
      "      to use. Consider using pyLDAvis.display(), or pyLDAvis.enable_notebook().\n",
      "      See more information at http://pyLDAvis.github.io/quickstart.html .\n",
      "\n",
      "You must interrupt the kernel to end this command\n",
      "\n",
      "Serving to http://127.0.0.1:8889/    [Ctrl-C to exit]\n"
     ]
    },
    {
     "name": "stderr",
     "output_type": "stream",
     "text": [
      "127.0.0.1 - - [14/Mar/2018 10:32:18] \"GET / HTTP/1.1\" 200 -\n",
      "127.0.0.1 - - [14/Mar/2018 10:32:19] \"GET /LDAvis.css HTTP/1.1\" 200 -\n",
      "127.0.0.1 - - [14/Mar/2018 10:32:19] \"GET /d3.js HTTP/1.1\" 200 -\n",
      "127.0.0.1 - - [14/Mar/2018 10:32:19] \"GET /LDAvis.js HTTP/1.1\" 200 -\n"
     ]
    }
   ],
   "source": [
    "import pyLDAvis\n",
    "import pyLDAvis.sklearn\n",
    "pyLDAvis.enable_notebook()\n",
    "#https://github.com/bmabey/pyLDAvis/issues/69\n",
    "visData = pyLDAvis.sklearn.prepare(lda, X_train_preprocess, vectorizer, mds='mmds')\n",
    "pyLDAvis.show(visData,  ip=\"127.0.0.1\", port=8889)"
   ]
  },
  {
   "cell_type": "code",
   "execution_count": null,
   "metadata": {
    "collapsed": true
   },
   "outputs": [],
   "source": []
  }
 ],
 "metadata": {
  "kernelspec": {
   "display_name": "Python 3",
   "language": "python",
   "name": "python3"
  },
  "language_info": {
   "codemirror_mode": {
    "name": "ipython",
    "version": 3
   },
   "file_extension": ".py",
   "mimetype": "text/x-python",
   "name": "python",
   "nbconvert_exporter": "python",
   "pygments_lexer": "ipython3",
   "version": "3.6.1"
  }
 },
 "nbformat": 4,
 "nbformat_minor": 2
}

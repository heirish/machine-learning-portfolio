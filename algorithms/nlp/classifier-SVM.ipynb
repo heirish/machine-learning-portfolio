{
 "cells": [
  {
   "cell_type": "code",
   "execution_count": 2,
   "metadata": {},
   "outputs": [],
   "source": [
    "#1. load labeled data and shuffle(keep trace on id)\n",
    "#2. cleanData(html, utf-8 unicode)\n",
    "#3. identify\n",
    "#4. split with punctuation\n",
    "#5. token and vectorize\n",
    "#6. split data 8:2 or 7:3\n",
    "#7. train a classifier using SVM\n",
    "\n",
    "import pandas as pd\n",
    "import numpy as np\n",
    "from sklearn.feature_extraction.text import CountVectorizer, TfidfVectorizer\n",
    "from sklearn.model_selection import train_test_split\n",
    "from sklearn.pipeline import Pipeline\n",
    "from sklearn.svm import LinearSVC, SVC\n",
    "from sklearn.model_selection import GridSearchCV\n",
    "from sklearn.metrics import accuracy_score \n",
    "from sklearn.metrics import classification_report\n",
    "from sklearn.metrics import roc_curve, auc\n",
    "import matplotlib.pyplot as plt  \n",
    "import time\n",
    "\n",
    "from Utils import utilDataPreprocess, logProcessFuncs\n",
    "import importlib\n",
    "importlib.reload(utilDataPreprocess)\n",
    "importlib.reload(logProcessFuncs)\n",
    "\n",
    "%matplotlib inline\n",
    "plt.rcParams[\"figure.figsize\"] = [16,9]\n",
    "import warnings\n",
    "warnings.filterwarnings(\"ignore\", category=UserWarning, module='bs4')"
   ]
  },
  {
   "cell_type": "code",
   "execution_count": 46,
   "metadata": {},
   "outputs": [
    {
     "name": "stdout",
     "output_type": "stream",
     "text": [
      "                                                body  label\n",
      "0  string function text event code javascript res...      0\n",
      "1  firefox internet browser flash sifr explorer h...      0\n",
      "2  public list int function new warning method va...      0\n",
      "3  test array value number code language byte exa...      0\n",
      "4  server file way application user database time...      0\n"
     ]
    },
    {
     "data": {
      "image/png": "[encoded data removed]",
      "text/plain": [
       "<matplotlib.figure.Figure at 0x21d62f482e8>"
      ]
     },
     "metadata": {},
     "output_type": "display_data"
    },
    {
     "name": "stdout",
     "output_type": "stream",
     "text": [
      "731 314\n",
      "labels_train [0 1]\n"
     ]
    }
   ],
   "source": [
    "### load labeled data \n",
    "#Nlogs are from \n",
    "#https://ossec-docs.readthedocs.io/en/latest/log_samples/\n",
    "#http://www.monitorware.com/en/logsamples/\n",
    "\n",
    "DATAFILES = [\n",
    "    {\"filename\":\"./Nlogs.csv\", \"label\":0},\n",
    "    {\"filename\":\"./ossec_testing.csv\", \"label\":1},\n",
    "    {\"filename\":\"./ossec_rules_keep.csv\", \"label\":1}\n",
    "]\n",
    "def loadTrainData():\n",
    "    data = pd.DataFrame()\n",
    "    for datafile in DATAFILES:\n",
    "        filename = datafile[\"filename\"]\n",
    "        dataTmp = pd.read_csv(filename)\n",
    "        if \"body\" not in dataTmp.columns:\n",
    "            continue\n",
    "        dataTmp = dataTmp[dataTmp[\"body\"].notnull()]\n",
    "        dataTmp[\"body\"] = dataTmp[\"body\"].map(logProcessFuncs.cleanTextFunc)\n",
    "        dataTmp[\"label\"] = datafile[\"label\"]\n",
    "        data = data.append(dataTmp[[\"body\", \"label\"]], ignore_index=True)\n",
    "    return data\n",
    "\n",
    "df_train_data = loadTrainData()\n",
    "df_train_data = df_train_data[df_train_data['body'].notnull()]\n",
    "df_train_data = df_train_data.drop_duplicates(['body'])\n",
    "print(df_train_data.head())\n",
    "ax = df_train_data.groupby(['label']).size().plot(kind='bar', title =\"label count\", legend=True, fontsize=12)\n",
    "ax.set_xlabel(\"label\", fontsize=12)\n",
    "ax.set_ylabel(\"count\", fontsize=12)\n",
    "plt.show()\n",
    "X,y = df_train_data['body'].tolist(), df_train_data['label'].tolist()\n",
    "X_train, X_test, y_train, y_test = train_test_split(X, y, test_size=0.3, random_state=123) # shuffle is True by default\n",
    "#for test\n",
    "#X_train, X_test, y_train, y_test = X_train[:350], X_test[:150], y_train[:350], y_test[:150]\n",
    "print(len(X_train), len(X_test))\n",
    "labels_train = np.unique(y_train)\n",
    "print(\"labels_train\", labels_train)"
   ]
  },
  {
   "cell_type": "code",
   "execution_count": 47,
   "metadata": {
    "collapsed": true
   },
   "outputs": [],
   "source": [
    "def printNMostInformative(feature_names, coef, N):\n",
    "    \"\"\"Prints features with the highest coefficient values, per class\"\"\"\n",
    "    coefs_with_fns = sorted(zip(coef, feature_names))\n",
    "    #print(coefs_with_fns)\n",
    "    topClass1 = coefs_with_fns[:N]\n",
    "    topClass2 = coefs_with_fns[:-(N + 1):-1]\n",
    "    print(\"Class 1 best: \")\n",
    "    for feat in topClass1:\n",
    "        print(feat)\n",
    "    print(\"Class 2 best: \")\n",
    "    for feat in topClass2:\n",
    "        print(feat)"
   ]
  },
  {
   "cell_type": "code",
   "execution_count": 48,
   "metadata": {
    "collapsed": true
   },
   "outputs": [],
   "source": [
    "def drawROCCurve(y_test, predict):\n",
    "    print(y_test[:10])\n",
    "    print(predict[:10])\n",
    "    fpr, tpr, thresholds = roc_curve(y_test, predict) \n",
    "    roc_auc = auc(fpr, tpr)  \n",
    "    #画图，只需要plt.plot(fpr,tpr),变量roc_auc只是记录auc的值，通过auc()函数能计算出来  \n",
    "    plt.plot(fpr, tpr, lw=1, label='ROC Curve(AUC = %0.2f)' % (roc_auc))\n",
    "    plt.plot([0, 1], [0, 1], '--', color=(0.6, 0.6, 0.6), label='Luck')\n",
    "    plt.xlim([-0.05, 1.05])  \n",
    "    plt.ylim([-0.05, 1.05])  \n",
    "    plt.xlabel('False Positive Rate')  \n",
    "    plt.ylabel('True Positive Rate')  \n",
    "    plt.title('Receiver operating characteristic example')  \n",
    "    plt.legend(loc=\"lower right\")  \n",
    "    plt.show()  "
   ]
  },
  {
   "cell_type": "code",
   "execution_count": 49,
   "metadata": {
    "collapsed": true
   },
   "outputs": [],
   "source": [
    "def gridSearchCLF(estimator, parameters, X_train, y_train):\n",
    "    grid_obj = GridSearchCV(estimator, parameters, cv=10, n_jobs=4)\n",
    "    start_time = time.time()\n",
    "    grid_obj.fit(X_train, y_train)\n",
    "    end_time = time.time()\n",
    "    print(\"==================================================\\n\")\n",
    "    print(\"Done in {} Seconds\".format(end_time - start_time))\n",
    "    return grid_obj.best_estimator_"
   ]
  },
  {
   "cell_type": "code",
   "execution_count": 50,
   "metadata": {},
   "outputs": [
    {
     "name": "stdout",
     "output_type": "stream",
     "text": [
      "[LibSVM]==================================================\n",
      "\n",
      "Done in 5.429136037826538 Seconds\n",
      "SVC(C=1, cache_size=200, class_weight=None, coef0=0.0,\n",
      "  decision_function_shape='ovr', degree=3, gamma='auto', kernel='linear',\n",
      "  max_iter=100000, probability=False, random_state=123, shrinking=False,\n",
      "  tol=0.1, verbose=True)\n",
      "accuracy: SVC with linearkernal:0.9681528662420382\n",
      "Class 1 best: \n",
      "(-3.627554989090042, 'mar')\n",
      "(-1.821388026924247, 'datetime_type')\n",
      "(-1.4382063832728196, 'ip_type')\n",
      "(-1.2152024795012486, 'avas')\n",
      "(-1.135173133543014, 'url')\n",
      "(-1.0745989713217214, 'mar avas')\n",
      "(-0.9728641769023753, 'twiki')\n",
      "(-0.9405311009436057, 'com')\n",
      "(-0.8934298718204394, 'datetime_type url')\n",
      "(-0.8910876010918851, 'text')\n",
      "(-0.8153066456769087, 'snort')\n",
      "(-0.7578109242495291, 'html')\n",
      "(-0.7336210840570259, 'http')\n",
      "(-0.7161642186635507, 'follow')\n",
      "(-0.6955926777388911, 'url_type')\n",
      "(-0.685884304788032, 'mar snort')\n",
      "(-0.6338790404229695, 'avas sshd')\n",
      "(-0.6338790404229695, 'mar avas sshd')\n",
      "(-0.5936979170758133, 'character')\n",
      "(-0.5893225048488058, 'succeed')\n",
      "(-0.5776088049039196, 'tcp_deni')\n",
      "(-0.5776088049039196, 'text html')\n",
      "(-0.5776088049039196, 'xx')\n",
      "(-0.5776088049039196, 'xx tcp_deni')\n",
      "(-0.5773502691896258, 'bat')\n",
      "(-0.5773502691896258, 'dat')\n",
      "(-0.5773502691896258, 'datetime_type bat')\n",
      "(-0.5773502691896258, 'datetime_type com')\n",
      "(-0.5773502691896258, 'datetime_type dat')\n",
      "(-0.5773502691896258, 'datetime_type head')\n",
      "Class 2 best: \n",
      "(0.7724358856664688, 'apr')\n",
      "(0.7680090940428326, 'ip_type apr')\n",
      "(0.5773502691896258, 'datetime_type crit')\n",
      "(0.5773502691896258, 'crit')\n",
      "(0.5645707707180003, 'pid')\n",
      "(0.5576436840162381, 'client ip_type')\n",
      "(0.4810448264227267, 'client')\n",
      "(0.47651400322512466, 'yadda')\n",
      "(0.4082482904638631, 'ip_type apr http')\n",
      "(0.4082482904638631, 'apr http')\n",
      "(0.38832448499964367, 'packet')\n",
      "(0.38458027781926873, 'error')\n",
      "(0.3470111960656469, 'deny')\n",
      "(0.3468676372426507, 'hostname')\n",
      "(0.3345785371960785, 'sep ip_type')\n",
      "(0.3345785371960785, 'sep')\n",
      "(0.33048476917826963, 'auth')\n",
      "(0.3215339957422904, 'version')\n",
      "(0.3054233622625387, 'server stop')\n",
      "(0.300332613312329, 'login')\n",
      "(0.2930948953630342, 'ip_type ip_type')\n",
      "(0.2930449990201038, 'authentication')\n",
      "(0.28914478106705954, 'jan')\n",
      "(0.27281099447749696, 'com ip_type')\n",
      "(0.2726772299411121, 'datetime_type pid')\n",
      "(0.260791355356374, 'yadda yadda')\n",
      "(0.2574894839349391, 'odcdavcxkvin game com')\n",
      "(0.2574894839349391, 'odcdavcxkvin game')\n",
      "(0.2574894839349391, 'odcdavcxkvin')\n",
      "(0.2574894839349391, 'game com')\n",
      "             precision    recall  f1-score   support\n",
      "\n",
      "          0       0.95      0.93      0.94        81\n",
      "          1       0.97      0.98      0.98       233\n",
      "\n",
      "avg / total       0.97      0.97      0.97       314\n",
      "\n",
      "[1, 0, 1, 1, 1, 1, 1, 0, 1, 0]\n",
      "[ 0.95833982 -0.98209663  1.00418918  0.99926055  1.0459764   0.96071392\n",
      "  1.20608789  0.01049461  0.74069377 -1.06835011]\n"
     ]
    },
    {
     "data": {
      "image/png": "[encoded data removed]",
      "text/plain": [
       "<matplotlib.figure.Figure at 0x21d45a47a58>"
      ]
     },
     "metadata": {},
     "output_type": "display_data"
    }
   ],
   "source": [
    "if __name__ == \"__main__\":\n",
    "    \n",
    "    #countvectorizer data is not standardized, should not be feed it to SVM\n",
    "    #svm/base.py:218: ConvergenceWarning: Solver terminated early (max_iter=500).  Consider pre-processing your data with StandardScaler or MinMaxScaler.\n",
    "    #% self.max_iter, ConvergenceWarning)\n",
    "    #vectorizer = CountVectorizer(tokenizer = logProcessFuncs.tokenFunc, min_df = 1, max_df = 0.6,  max_features = 1000000)\n",
    "    vectorizer = TfidfVectorizer(tokenizer = logProcessFuncs.tokenFunc, ngram_range=(1,4), min_df = 1, max_df = 0.6,  max_features = 1000000,use_idf=False)\n",
    "    #do cleaning when load data\n",
    "    #cleaner = utilDataPreprocess.CleanTextTransformer(n_jobs=2, cleanFunc=logProcessFuncs.cleanTextFunc)\n",
    "    spliter = utilDataPreprocess.CleanTextTransformer(n_jobs=2, cleanFunc=logProcessFuncs.splitTextFunc)\n",
    "    \n",
    "    preprocess_pipline = Pipeline([\n",
    "                     (\"spliter\", spliter),\n",
    "                     ('vectorizer', vectorizer)])\n",
    "    preprocessed_train_data = preprocess_pipline.fit_transform(X_train)\n",
    "    preprocessed_test_data = preprocess_pipline.transform(X_test)\n",
    "    \n",
    "    \"\"\"\n",
    "    #base.py:898: ConvergenceWarning: Liblinear failed to converge, increase the number of iterations.\n",
    "    #choose model:LinearSVC, SVC(kernel='linear'))\n",
    "    clf1 = LinearSVC(verbose = True, random_state = 123, loss='hinge')\n",
    "    #clf1 = LinearSVC(verbose = True, random_state = 123)\n",
    "    parameters1={'C':[0.1, 0.5, 1, 10, 100], 'max_iter':[2000, 3000, 5000]}\n",
    "    best_clf1 = gridSearchCLF(clf1, parameters1, preprocessed_train_data, y_train)\n",
    "    print(best_clf1)\n",
    "    \n",
    "    predict1 = best_clf1.predict(preprocessed_test_data)\n",
    "    score1 = accuracy_score(y_test, predict1)\n",
    "    print(\"accuracy: LinearSVC:{}\".format( score1)) \n",
    "    printNMostInformative(vectorizer.get_feature_names(), best_clf1.coef_[0], 30)\n",
    "    print(classification_report(y_test, predict1))\n",
    "    drawROCCurve(y_test, best_clf1.decision_function(preprocessed_test_data))\n",
    "    \"\"\"\n",
    "    \n",
    "    clf2 = SVC(kernel='linear',verbose = True, random_state = 123, max_iter = 100000, shrinking=False)\n",
    "    parameters2={'C':[0.1, 1, 10,100], 'tol':[1e-1, 1e-2, 1e-3, 1e-4]}\n",
    "    best_clf2 = gridSearchCLF(clf2, parameters2, preprocessed_train_data, y_train)\n",
    "    print(best_clf2)    \n",
    "    \n",
    "    predict2 = best_clf2.predict(preprocessed_test_data)\n",
    "    score2 = accuracy_score(y_test, predict2)\n",
    "    print(\"accuracy: SVC with linearkernal:{}\".format( score2))  \n",
    "    printNMostInformative(vectorizer.get_feature_names(), best_clf2.coef_.toarray()[0], 30)\n",
    "    print(classification_report(y_test, predict2))\n",
    "    drawROCCurve(y_test, best_clf2.decision_function(preprocessed_test_data))"
   ]
  },
  {
   "cell_type": "code",
   "execution_count": null,
   "metadata": {
    "collapsed": true
   },
   "outputs": [],
   "source": []
  }
 ],
 "metadata": {
  "kernelspec": {
   "display_name": "Python 3",
   "language": "python",
   "name": "python3"
  },
  "language_info": {
   "codemirror_mode": {
    "name": "ipython",
    "version": 3
   },
   "file_extension": ".py",
   "mimetype": "text/x-python",
   "name": "python",
   "nbconvert_exporter": "python",
   "pygments_lexer": "ipython3",
   "version": "3.6.1"
  }
 },
 "nbformat": 4,
 "nbformat_minor": 2
}

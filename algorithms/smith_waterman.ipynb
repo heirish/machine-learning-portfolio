{
 "cells": [
  {
   "cell_type": "markdown",
   "metadata": {},
   "source": [
    "### solve the local sequence alignment problem using smith-waterman algorithm"
   ]
  },
  {
   "cell_type": "code",
   "execution_count": 1,
   "metadata": {
    "collapsed": true
   },
   "outputs": [],
   "source": [
    "import numpy as np\n",
    "equal_score = 1\n",
    "unequal_score = -1\n",
    "space_score = -2\n",
    "# smith-waterman 算法不可能出现负分的情况"
   ]
  },
  {
   "cell_type": "code",
   "execution_count": 2,
   "metadata": {},
   "outputs": [
    {
     "name": "stdout",
     "output_type": "stream",
     "text": [
      "[[0 0 0 0 0 0 0]\n",
      " [0 0 0 0 1 0 0]\n",
      " [0 0 0 0 0 2 0]\n",
      " [0 1 0 0 0 0 1]\n",
      " [0 0 0 0 0 0 0]\n",
      " [0 0 0 1 0 0 0]\n",
      " [0 0 0 0 0 0 0]\n",
      " [0 0 0 0 0 0 1]]\n"
     ]
    }
   ],
   "source": [
    "def createScoreMatrix(list1, list2, debug=False):\n",
    "    lenList1, lenList2 = len(list1), len(list2)\n",
    "    #initialize matrix\n",
    "    scoreMatrix = np.zeros((lenList1+1, lenList2+1), dtype=int)\n",
    "    #populate the matrix\n",
    "    for i, x in enumerate(list1):\n",
    "        for j, y in enumerate(list2):\n",
    "            if x == y:\n",
    "                scoreMatrix[i+1][j+1] = scoreMatrix[i][j]+equal_score\n",
    "            else:\n",
    "                scoreMatrix[i+1][j+1] = max(scoreMatrix[i][j+1]+space_score, scoreMatrix[i+1][j]+space_score, scoreMatrix[i][j]+unequal_score, 0)\n",
    "    if debug:\n",
    "        print(\"score Matrix:\")\n",
    "        print(scoreMatrix)\n",
    "    return scoreMatrix\n",
    "\n",
    "list1=[1, 2, 4, 6,7,8,0]\n",
    "list2=[4,5,7,1,2,0]\n",
    "print(createScoreMatrix(list1, list2))"
   ]
  },
  {
   "cell_type": "code",
   "execution_count": 3,
   "metadata": {},
   "outputs": [
    {
     "data": {
      "text/plain": [
       "array([[4, 4],\n",
       "       [7, 6]], dtype=int64)"
      ]
     },
     "execution_count": 3,
     "metadata": {},
     "output_type": "execute_result"
    }
   ],
   "source": [
    "def getMaxScorePosition(scoreMatrix):\n",
    "    maxValue = np.amax(scoreMatrix)\n",
    "    if maxValue == 0:\n",
    "        return None\n",
    "    else:\n",
    "        return np.argwhere(scoreMatrix == maxValue)\n",
    "    \n",
    "list1=list(\"GGTTGACTA\")\n",
    "list2=list(\"TGTTACGG\")\n",
    "getMaxScorePosition(createScoreMatrix(list1, list2))"
   ]
  },
  {
   "cell_type": "code",
   "execution_count": 4,
   "metadata": {
    "collapsed": true
   },
   "outputs": [],
   "source": [
    "def traceBack(list1, list2, scoreMatrix, startPosition):\n",
    "    '''\n",
    "    Return:\n",
    "         alignedList1, alignedList2, commonSub\n",
    "    '''\n",
    "    commonSub=[]\n",
    "    alignedList1 = []\n",
    "    alignedList2 = []\n",
    "    i, j = startPosition[0], startPosition[1]\n",
    "    if i == 0 or j == 0:\n",
    "        return list1, list2, commonSub\n",
    "    else:\n",
    "        #TODO:填充从结尾到最大值位置的元素或空格,\n",
    "        #用于文本对齐，直接全部用*填充即可\n",
    "        len1 = len(list1)\n",
    "        len2 = len(list2)\n",
    "        if i < len1:\n",
    "            alignedList1 = list1[i:]\n",
    "        if j < len(list2):\n",
    "            alignedList2 = list2[j:]\n",
    "        while i != 0 and j != 0 and scoreMatrix[i][j] > 0:  #顺序是左上，上，左\n",
    "            if list1[i-1] == list2[j-1]:\n",
    "                commonSub.append(list1[i-1])\n",
    "                alignedList1.append(list1[i-1])\n",
    "                alignedList2.append(list2[j-1])\n",
    "                i -= 1\n",
    "                j -= 1\n",
    "            elif scoreMatrix[i][j] == scoreMatrix[i-1][j-1] + unequal_score:\n",
    "                alignedList1.append(list1[i-1])\n",
    "                alignedList2.append(list2[j-1])\n",
    "                i -= 1\n",
    "                j -= 1\n",
    "            elif scoreMatrix[i][j] == scoreMatrix[i-1][j] + space_score:\n",
    "                alignedList1.append(list1[i-1])\n",
    "                alignedList2.append('_')\n",
    "                i -= 1\n",
    "            else:#scoreMatrix[i][j] == scoreMatrix[i][j-1] + space_score:\n",
    "                alignedList1.append('_')\n",
    "                alignedList2.append(list2[j-1])\n",
    "                j -= 1\n",
    "        #TODO:填充从开始到回溯结束位置的元素或空格。\n",
    "        print(i,j)\n",
    "        while i > 0:\n",
    "            alignedList1.append(list1[i-1])\n",
    "            alignedList2.append('_')\n",
    "            i -= 1\n",
    "        while j > 0:\n",
    "            alignedList2.append(list2[j-1])\n",
    "            alignedList1.append('_')\n",
    "            j -= 1\n",
    "    alignedList1.reverse()\n",
    "    alignedList2.reverse()\n",
    "    commonSub.reverse()\n",
    "    \n",
    "    return alignedList1, alignedList2, commonSub"
   ]
  },
  {
   "cell_type": "code",
   "execution_count": 5,
   "metadata": {
    "collapsed": true
   },
   "outputs": [],
   "source": [
    "def smith_waterman(list1, list2, debug=False):\n",
    "    scoreMatrix = createScoreMatrix(list1, list2, debug)\n",
    "    startPositions = getMaxScorePosition(scoreMatrix)\n",
    "    alignedList1s = []\n",
    "    alignedList2s = []\n",
    "    commonSubs = []\n",
    "    if startPositions is None:\n",
    "        return alignedList1s, alignedList2s, commonSubs\n",
    "    for i in range(startPositions.shape[0]):\n",
    "        alignedList1, alignedList2, commonSub = traceBack(list1, list2, scoreMatrix, startPositions[i])\n",
    "        alignedList1s.append(alignedList1)\n",
    "        alignedList2s.append(alignedList2)\n",
    "        commonSubs.append(commonSub)\n",
    "    return alignedList1s, alignedList2s, commonSubs"
   ]
  },
  {
   "cell_type": "code",
   "execution_count": 6,
   "metadata": {},
   "outputs": [
    {
     "name": "stdout",
     "output_type": "stream",
     "text": [
      "score Matrix:\n",
      "[[0 0 0 0 0 0 0 0 0]\n",
      " [0 0 1 0 0 0 0 1 1]\n",
      " [0 0 1 0 0 0 0 1 2]\n",
      " [0 1 0 2 1 0 0 0 0]\n",
      " [0 1 0 1 3 1 0 0 0]\n",
      " [0 0 2 0 1 2 0 1 1]\n",
      " [0 0 0 1 0 2 1 0 0]\n",
      " [0 0 0 0 0 0 3 1 0]\n",
      " [0 1 0 1 1 0 1 2 0]\n",
      " [0 0 0 0 0 2 0 0 1]]\n",
      "1 1\n",
      "1 1\n",
      "There are 2 commonSubs found.\n",
      "\n",
      "['_', 'G', 'G', 'T', 'T', 'A', 'T', 'C', 'A', 'G']\n",
      "['T', '_', 'G', 'T', 'T', 'G', 'G', 'C', 'A']\n",
      "['G', 'T', 'T']\n",
      "['_', 'G', 'G', 'T', 'T', 'G', 'A', 'C', 'A', 'T']\n",
      "['T', '_', 'G', 'T', 'T', '_', 'A', 'C', 'G', 'G']\n",
      "['G', 'T', 'T', 'A', 'C']\n"
     ]
    }
   ],
   "source": [
    "list1=list(\"GGTTGACTA\")\n",
    "list2=list(\"TGTTACGG\")\n",
    "alignedList1s,alignedList2s,commonSubs= smith_waterman(list1, list2, True)\n",
    "print(\"There are %s commonSubs found.\\n\"% (len(alignedList1s)))\n",
    "for i in range(len(alignedList1s)):\n",
    "    print(alignedList1s[i])\n",
    "    print(alignedList2s[i])\n",
    "    print(commonSubs[i])"
   ]
  },
  {
   "cell_type": "code",
   "execution_count": 7,
   "metadata": {},
   "outputs": [
    {
     "name": "stdout",
     "output_type": "stream",
     "text": [
      "score Matrix:\n",
      "[[0 0 0 0 0 0 0]\n",
      " [0 0 0 0 1 0 0]\n",
      " [0 0 0 0 0 2 0]\n",
      " [0 1 0 0 0 0 1]\n",
      " [0 0 0 0 0 0 0]\n",
      " [0 0 0 1 0 0 0]\n",
      " [0 0 0 0 0 0 0]\n",
      " [0 0 0 0 0 0 1]]\n",
      "0 3\n",
      "There are 1 commonSubs found.\n",
      "\n",
      "['_', '_', '_', 1, 2, 0, 8, 7, 6, 4]\n",
      "[4, 5, 7, 1, 2, 0]\n",
      "[1, 2]\n"
     ]
    }
   ],
   "source": [
    "list1=[1, 2, 4, 6,7,8,0]\n",
    "list2=[4,5,7,1,2,0]\n",
    "alignedList1s,alignedList2s,commonSubs= smith_waterman(list1, list2, True)\n",
    "print(\"There are %s commonSubs found.\\n\"% (len(alignedList1s)))\n",
    "for i in range(len(alignedList1s)):\n",
    "    print(alignedList1s[i])\n",
    "    print(alignedList2s[i])\n",
    "    print(commonSubs[i])"
   ]
  },
  {
   "cell_type": "code",
   "execution_count": 8,
   "metadata": {},
   "outputs": [
    {
     "name": "stdout",
     "output_type": "stream",
     "text": [
      "score Matrix:\n",
      "[[0 0 0 0 0 0 0 0 0]\n",
      " [0 1 0 1 0 0 0 0 1]\n",
      " [0 0 2 0 2 0 0 0 0]\n",
      " [0 0 1 1 1 1 0 0 0]\n",
      " [0 0 1 0 2 0 0 0 0]\n",
      " [0 0 0 0 0 1 0 1 0]\n",
      " [0 0 0 0 0 1 2 0 0]\n",
      " [0 1 0 1 0 0 0 1 1]\n",
      " [0 0 2 0 2 0 0 0 0]\n",
      " [0 1 0 3 1 1 0 0 1]]\n",
      "6 0\n",
      "There are 1 commonSubs found.\n",
      "\n",
      "['G', 'C', 'C', 'C', 'T', 'A', 'G', 'C', 'G']\n",
      "['_', '_', '_', '_', '_', '_', 'G', 'C', 'G', 'G', 'T', 'A', 'A', 'C']\n",
      "['G', 'C', 'G']\n"
     ]
    }
   ],
   "source": [
    "list1=list(\"GCCCTAGCG\")\n",
    "list2=list(\"GCGCAATG\")\n",
    "alignedList1s,alignedList2s,commonSubs= smith_waterman(list1, list2, True)\n",
    "print(\"There are %s commonSubs found.\\n\"% (len(alignedList1s)))\n",
    "for i in range(len(alignedList1s)):\n",
    "    print(alignedList1s[i])\n",
    "    print(alignedList2s[i])\n",
    "    print(commonSubs[i])"
   ]
  },
  {
   "cell_type": "code",
   "execution_count": 10,
   "metadata": {},
   "outputs": [
    {
     "name": "stdout",
     "output_type": "stream",
     "text": [
      "score Matrix:\n",
      "[[0 0 0 0 0 0 0 0 0]\n",
      " [0 0 0 0 0 0 0 0 0]\n",
      " [0 0 0 0 0 0 0 0 0]\n",
      " [0 0 0 0 0 0 0 0 0]\n",
      " [0 0 0 0 0 0 0 0 0]\n",
      " [0 0 0 0 0 0 0 0 0]\n",
      " [0 0 0 0 0 0 0 0 0]\n",
      " [0 0 0 0 0 0 0 0 0]\n",
      " [0 0 0 0 0 0 0 0 0]\n",
      " [0 0 0 0 0 0 0 0 0]\n",
      " [0 0 0 0 0 0 0 0 0]]\n",
      "There are 0 commonSubs found.\n",
      "\n"
     ]
    }
   ],
   "source": [
    "list1=list(\"awefasdfef\")\n",
    "list2=list(\"23474565\")\n",
    "alignedList1s,alignedList2s,commonSubs= smith_waterman(list1, list2, True)\n",
    "print(\"There are %s commonSubs found.\\n\"% (len(alignedList1s)))\n",
    "for i in range(len(alignedList1s)):\n",
    "    print(alignedList1s[i])\n",
    "    print(alignedList2s[i])\n",
    "    print(commonSubs[i])"
   ]
  },
  {
   "cell_type": "code",
   "execution_count": 12,
   "metadata": {},
   "outputs": [
    {
     "name": "stdout",
     "output_type": "stream",
     "text": [
      "score Matrix:\n",
      "[[0 0 0 0 0 0 0 0 0]\n",
      " [0 1 0 1 0 1 0 0 1]\n",
      " [0 0 0 0 0 0 2 0 0]\n",
      " [0 0 1 0 0 0 0 1 0]\n",
      " [0 0 1 0 0 0 0 0 0]\n",
      " [0 1 0 2 0 1 0 0 1]\n",
      " [0 0 0 0 1 0 2 0 0]\n",
      " [0 1 0 1 0 2 0 1 1]]\n",
      "0 4\n",
      "3 1\n",
      "4 4\n",
      "3 1\n",
      "There are 4 commonSubs found.\n",
      "\n",
      "['_', '_', '_', '_', 'C', 'A', 'C', 'A', 'C', 'T', 'T']\n",
      "['C', 'T', 'C', 'G', 'C', 'A', 'C', 'G']\n",
      "['C', 'A']\n",
      "['_', 'C', 'A', 'T', 'T', 'C', 'C', 'A']\n",
      "['C', '_', '_', '_', 'T', 'C', 'C', 'G', 'A', 'C', 'G']\n",
      "['T', 'C']\n",
      "['_', '_', '_', '_', 'C', 'A', 'T', 'T', 'C', 'A', 'C']\n",
      "['C', 'T', 'C', 'G', '_', '_', '_', '_', 'C', 'A', 'C', 'G']\n",
      "['C', 'A']\n",
      "['_', 'C', 'A', 'T', 'T', 'C', 'A', 'C']\n",
      "['C', '_', '_', '_', 'T', 'C', 'G', 'C', 'C', 'G', 'A']\n",
      "['T', 'C', 'C']\n"
     ]
    }
   ],
   "source": [
    "list1=list(\"CTCGCAGC\")\n",
    "list2=list(\"CATTCAC\")\n",
    "alignedList1s,alignedList2s,commonSubs= smith_waterman(list1, list2, True)\n",
    "print(\"There are %s commonSubs found.\\n\"% (len(alignedList1s)))\n",
    "for i in range(len(alignedList1s)):\n",
    "    print(alignedList1s[i])\n",
    "    print(alignedList2s[i])\n",
    "    print(commonSubs[i])"
   ]
  },
  {
   "cell_type": "code",
   "execution_count": null,
   "metadata": {
    "collapsed": true
   },
   "outputs": [],
   "source": []
  },
  {
   "cell_type": "code",
   "execution_count": null,
   "metadata": {
    "collapsed": true
   },
   "outputs": [],
   "source": []
  }
 ],
 "metadata": {
  "kernelspec": {
   "display_name": "Python 3",
   "language": "python",
   "name": "python3"
  },
  "language_info": {
   "codemirror_mode": {
    "name": "ipython",
    "version": 3
   },
   "file_extension": ".py",
   "mimetype": "text/x-python",
   "name": "python",
   "nbconvert_exporter": "python",
   "pygments_lexer": "ipython3",
   "version": "3.6.0"
  }
 },
 "nbformat": 4,
 "nbformat_minor": 2
}

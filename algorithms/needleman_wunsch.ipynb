{
 "cells": [
  {
   "cell_type": "markdown",
   "metadata": {},
   "source": [
    "### solve the global sequence alignment problem using needleman-wunsch algorithm"
   ]
  },
  {
   "cell_type": "code",
   "execution_count": 1,
   "metadata": {
    "collapsed": true
   },
   "outputs": [],
   "source": [
    "import numpy as np\n",
    "equal_score = 1\n",
    "unequal_score = -1\n",
    "space_score = -2\n",
    "# needleman-wunsch 算法可能出现负分的情况"
   ]
  },
  {
   "cell_type": "code",
   "execution_count": 7,
   "metadata": {},
   "outputs": [
    {
     "name": "stdout",
     "output_type": "stream",
     "text": [
      "[[  0  -2  -4  -6  -8 -10 -12]\n",
      " [ -2  -1  -3  -5  -5  -7  -9]\n",
      " [ -4  -3  -2  -4  -6  -4  -6]\n",
      " [ -6  -3  -4  -3  -5  -6  -5]\n",
      " [ -8  -5  -4  -5  -4  -6  -7]\n",
      " [-10  -7  -6  -3  -5  -5  -7]\n",
      " [-12  -9  -8  -5  -4  -6  -6]\n",
      " [-14 -11 -10  -7  -6  -5  -5]]\n"
     ]
    }
   ],
   "source": [
    "def createScoreMatrix(list1, list2, debug=False):\n",
    "    lenList1, lenList2 = len(list1), len(list2)\n",
    "    #initialize matrix\n",
    "    scoreMatrix = np.zeros((lenList1+1, lenList2+1), dtype=int)\n",
    "    for i in range(1, lenList1+1):\n",
    "        scoreMatrix[i][0] = i * space_score\n",
    "    for j in range(1, lenList2+1):\n",
    "        scoreMatrix[0][j] = j * space_score\n",
    "    #populate the matrix\n",
    "    for i, x in enumerate(list1):\n",
    "        for j, y in enumerate(list2):\n",
    "            if x == y:\n",
    "                scoreMatrix[i+1][j+1] = scoreMatrix[i][j]+equal_score\n",
    "            else:\n",
    "                scoreMatrix[i+1][j+1] = max(scoreMatrix[i][j+1]+space_score, scoreMatrix[i+1][j]+space_score, scoreMatrix[i][j]+unequal_score)\n",
    "    if debug:\n",
    "        print(\"score Matrix:\")\n",
    "        print(scoreMatrix)\n",
    "    return scoreMatrix\n",
    "\n",
    "list1=[1, 2, 4, 6,7,8,0]\n",
    "list2=[4,5,7,1,2,0]\n",
    "print(createScoreMatrix(list1, list2))"
   ]
  },
  {
   "cell_type": "code",
   "execution_count": 8,
   "metadata": {},
   "outputs": [
    {
     "name": "stdout",
     "output_type": "stream",
     "text": [
      "[[  0  -2  -4  -6  -8 -10 -12 -14 -16]\n",
      " [ -2   1  -1  -3  -5  -7  -9 -11 -13]\n",
      " [ -4  -1   2   0  -2  -4  -6  -8 -10]\n",
      " [ -6  -3   0   1   1  -1  -3  -5  -7]\n",
      " [ -8  -5  -2  -1   2   0  -2  -4  -6]\n",
      " [-10  -7  -4  -3   0   1  -1  -1  -3]\n",
      " [-12  -9  -6  -5  -2   1   2   0  -2]\n",
      " [-14 -11  -8  -5  -4  -1   0   1   1]\n",
      " [-16 -13 -10  -7  -4  -3  -2  -1   0]\n",
      " [-18 -15 -12  -9  -6  -5  -4  -3   0]]\n"
     ]
    }
   ],
   "source": [
    "list1=list(\"GCCCTAGCG\")\n",
    "list2=list(\"GCGCAATG\")\n",
    "print(createScoreMatrix(list1, list2))"
   ]
  },
  {
   "cell_type": "code",
   "execution_count": 25,
   "metadata": {},
   "outputs": [
    {
     "name": "stdout",
     "output_type": "stream",
     "text": [
      "[1, 2, 4, 6, 7, '_', 8, 0]\n",
      "[4, 5, 7, 1, 2, 0]\n",
      "[4, 7, 0]\n"
     ]
    }
   ],
   "source": [
    "def traceBack(list1, list2, scoreMatrix):\n",
    "    '''\n",
    "    Return:\n",
    "         alignedList1, alignedList2, commonSub\n",
    "    '''\n",
    "    commonSub = []\n",
    "    alignedList1 = []\n",
    "    alignedList2 = []\n",
    "    i, j = scoreMatrix.shape[0]-1, scoreMatrix.shape[1]-1\n",
    "    if i == 0 or j == 0:\n",
    "        return list1, list2, commonSub\n",
    "    else:\n",
    "        while i != 0 and j != 0:  #顺序是左上，上，左\n",
    "            if list1[i-1] == list2[j-1]:\n",
    "                commonSub.append(list1[i-1])\n",
    "                alignedList1.append(list1[i-1])\n",
    "                alignedList2.append(list2[j-1])\n",
    "                i -= 1\n",
    "                j -= 1\n",
    "            elif scoreMatrix[i][j] == scoreMatrix[i-1][j-1] + unequal_score:\n",
    "                alignedList1.append(list1[i-1])\n",
    "                alignedList2.append(list2[j-1])\n",
    "                i -= 1\n",
    "                j -= 1\n",
    "            elif scoreMatrix[i][j] == scoreMatrix[i-1][j] + space_score:\n",
    "                alignedList1.append(list1[i-1])\n",
    "                alignedList2.append('_')\n",
    "                i -= 1\n",
    "            else:#scoreMatrix[i][j] == scoreMatrix[i][j-1] + space_score:\n",
    "                alignedList1.append('_')\n",
    "                alignedList2.append(list2[j-1])\n",
    "                j -= 1\n",
    "    #己回滋到最左一行，或最上一列，但未到达0, 0 位置\n",
    "    while i > 0:\n",
    "        alignedList1.append(list1[i-1])\n",
    "        i -= 1\n",
    "    while j > 0:\n",
    "        alignedList2.append(list2[j-1])\n",
    "        j -= 1\n",
    "    alignedList1.reverse()\n",
    "    alignedList2.reverse()\n",
    "    commonSub.reverse()\n",
    "    return alignedList1, alignedList2, commonSub\n",
    "\n",
    "list1=[1, 2, 4, 6,7,8,0]\n",
    "list2=[4,5,7,1,2,0]\n",
    "alignedList1, alignedList2, commonSub= traceBack(list1, list2, createScoreMatrix(list1, list2))\n",
    "print(alignedList1)\n",
    "print(alignedList2)\n",
    "print(commonSub)"
   ]
  },
  {
   "cell_type": "code",
   "execution_count": 26,
   "metadata": {
    "collapsed": true
   },
   "outputs": [],
   "source": [
    "def needleman_wunsch(list1, list2, debug=False):\n",
    "    return traceBack(list1, list2, createScoreMatrix(list1, list2, debug))"
   ]
  },
  {
   "cell_type": "code",
   "execution_count": 27,
   "metadata": {},
   "outputs": [
    {
     "name": "stdout",
     "output_type": "stream",
     "text": [
      "score Matrix:\n",
      "[[  0  -2  -4  -6  -8 -10 -12 -14 -16]\n",
      " [ -2   1  -1  -3  -5  -7  -9 -11 -13]\n",
      " [ -4  -1   2   0  -2  -4  -6  -8 -10]\n",
      " [ -6  -3   0   1   1  -1  -3  -5  -7]\n",
      " [ -8  -5  -2  -1   2   0  -2  -4  -6]\n",
      " [-10  -7  -4  -3   0   1  -1  -1  -3]\n",
      " [-12  -9  -6  -5  -2   1   2   0  -2]\n",
      " [-14 -11  -8  -5  -4  -1   0   1   1]\n",
      " [-16 -13 -10  -7  -4  -3  -2  -1   0]\n",
      " [-18 -15 -12  -9  -6  -5  -4  -3   0]]\n",
      "['G', 'C', 'C', 'C', 'T', 'A', 'G', 'C', 'G']\n",
      "['G', 'C', 'G', 'C', '_', 'A', 'A', 'T', 'G']\n",
      "['G', 'C', 'C', 'A', 'G']\n"
     ]
    }
   ],
   "source": [
    "list1 = list(\"GCCCTAGCG\")\n",
    "list2 = list(\"GCGCAATG\")\n",
    "alignedList1, alignedList2, commonSub = needleman_wunsch(list1, list2, True)\n",
    "print(alignedList1)\n",
    "print(alignedList2)\n",
    "print(commonSub)"
   ]
  },
  {
   "cell_type": "code",
   "execution_count": 29,
   "metadata": {},
   "outputs": [
    {
     "name": "stdout",
     "output_type": "stream",
     "text": [
      "['this', 'is', 'a', 'test', 'for', 'text', 'alignment', 'from', 'xxxx']\n",
      "['hi,', 'try', 'a', 'test', 'for', '_', 'alignment', ',', 'heirish']\n",
      "['a', 'test', 'for', 'alignment']\n"
     ]
    }
   ],
   "source": [
    "text1 = \"this is a test for text alignment from xxxx\"\n",
    "text2 = \"Hi, try A test for alignment , Heirish\"\n",
    "list1 = text1.lower().split(\" \")\n",
    "list2 = text2.lower().split(\" \")\n",
    "alignedList1, alignedList2, commonSub = needleman_wunsch(list1, list2)\n",
    "print(alignedList1)\n",
    "print(alignedList2)\n",
    "print(commonSub)"
   ]
  },
  {
   "cell_type": "code",
   "execution_count": null,
   "metadata": {
    "collapsed": true
   },
   "outputs": [],
   "source": []
  }
 ],
 "metadata": {
  "kernelspec": {
   "display_name": "Python 3",
   "language": "python",
   "name": "python3"
  },
  "language_info": {
   "codemirror_mode": {
    "name": "ipython",
    "version": 3
   },
   "file_extension": ".py",
   "mimetype": "text/x-python",
   "name": "python",
   "nbconvert_exporter": "python",
   "pygments_lexer": "ipython3",
   "version": "3.6.1"
  }
 },
 "nbformat": 4,
 "nbformat_minor": 2
}
